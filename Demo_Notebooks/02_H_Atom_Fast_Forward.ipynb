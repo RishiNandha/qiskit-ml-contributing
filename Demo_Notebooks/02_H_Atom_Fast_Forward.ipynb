{
  "cells": [
    {
      "cell_type": "code",
      "source": [
        "!pip install qiskit\n",
        "!pip install qiskit_nature\n",
        "!pip install qiskit_ibm_runtime\n",
        "!pip install --prefer-binary pyscf\n",
        "import numpy as np\n",
        "import pickle as pkl\n",
        "import os"
      ],
      "metadata": {
        "colab": {
          "base_uri": "https://localhost:8080/"
        },
        "id": "aG8nQRmU52PI",
        "outputId": "8ffa7f73-6dbb-4e2f-efef-6ec2119199e1"
      },
      "id": "aG8nQRmU52PI",
      "execution_count": 14,
      "outputs": [
        {
          "output_type": "stream",
          "name": "stdout",
          "text": [
            "Collecting qiskit\n",
            "  Downloading qiskit-2.0.0-cp39-abi3-manylinux_2_17_x86_64.manylinux2014_x86_64.whl.metadata (12 kB)\n",
            "Collecting rustworkx>=0.15.0 (from qiskit)\n",
            "  Downloading rustworkx-0.16.0-cp39-abi3-manylinux_2_17_x86_64.manylinux2014_x86_64.whl.metadata (10 kB)\n",
            "Requirement already satisfied: numpy<3,>=1.17 in /usr/local/lib/python3.11/dist-packages (from qiskit) (2.0.2)\n",
            "Requirement already satisfied: scipy>=1.5 in /usr/local/lib/python3.11/dist-packages (from qiskit) (1.14.1)\n",
            "Requirement already satisfied: sympy>=1.3 in /usr/local/lib/python3.11/dist-packages (from qiskit) (1.13.1)\n",
            "Collecting dill>=0.3 (from qiskit)\n",
            "  Downloading dill-0.4.0-py3-none-any.whl.metadata (10 kB)\n",
            "Requirement already satisfied: python-dateutil>=2.8.0 in /usr/local/lib/python3.11/dist-packages (from qiskit) (2.8.2)\n",
            "Collecting stevedore>=3.0.0 (from qiskit)\n",
            "  Downloading stevedore-5.4.1-py3-none-any.whl.metadata (2.3 kB)\n",
            "Requirement already satisfied: typing-extensions in /usr/local/lib/python3.11/dist-packages (from qiskit) (4.13.2)\n",
            "Collecting symengine<0.14,>=0.11 (from qiskit)\n",
            "  Downloading symengine-0.13.0-cp311-cp311-manylinux_2_17_x86_64.manylinux2014_x86_64.whl.metadata (1.2 kB)\n",
            "Requirement already satisfied: six>=1.5 in /usr/local/lib/python3.11/dist-packages (from python-dateutil>=2.8.0->qiskit) (1.17.0)\n",
            "Collecting pbr>=2.0.0 (from stevedore>=3.0.0->qiskit)\n",
            "  Downloading pbr-6.1.1-py2.py3-none-any.whl.metadata (3.4 kB)\n",
            "Requirement already satisfied: mpmath<1.4,>=1.1.0 in /usr/local/lib/python3.11/dist-packages (from sympy>=1.3->qiskit) (1.3.0)\n",
            "Requirement already satisfied: setuptools in /usr/local/lib/python3.11/dist-packages (from pbr>=2.0.0->stevedore>=3.0.0->qiskit) (75.2.0)\n",
            "Downloading qiskit-2.0.0-cp39-abi3-manylinux_2_17_x86_64.manylinux2014_x86_64.whl (6.5 MB)\n",
            "\u001b[2K   \u001b[90m━━━━━━━━━━━━━━━━━━━━━━━━━━━━━━━━━━━━━━━━\u001b[0m \u001b[32m6.5/6.5 MB\u001b[0m \u001b[31m46.8 MB/s\u001b[0m eta \u001b[36m0:00:00\u001b[0m\n",
            "\u001b[?25hDownloading dill-0.4.0-py3-none-any.whl (119 kB)\n",
            "\u001b[2K   \u001b[90m━━━━━━━━━━━━━━━━━━━━━━━━━━━━━━━━━━━━━━━━\u001b[0m \u001b[32m119.7/119.7 kB\u001b[0m \u001b[31m9.1 MB/s\u001b[0m eta \u001b[36m0:00:00\u001b[0m\n",
            "\u001b[?25hDownloading rustworkx-0.16.0-cp39-abi3-manylinux_2_17_x86_64.manylinux2014_x86_64.whl (2.1 MB)\n",
            "\u001b[2K   \u001b[90m━━━━━━━━━━━━━━━━━━━━━━━━━━━━━━━━━━━━━━━━\u001b[0m \u001b[32m2.1/2.1 MB\u001b[0m \u001b[31m62.6 MB/s\u001b[0m eta \u001b[36m0:00:00\u001b[0m\n",
            "\u001b[?25hDownloading stevedore-5.4.1-py3-none-any.whl (49 kB)\n",
            "\u001b[2K   \u001b[90m━━━━━━━━━━━━━━━━━━━━━━━━━━━━━━━━━━━━━━━━\u001b[0m \u001b[32m49.5/49.5 kB\u001b[0m \u001b[31m3.9 MB/s\u001b[0m eta \u001b[36m0:00:00\u001b[0m\n",
            "\u001b[?25hDownloading symengine-0.13.0-cp311-cp311-manylinux_2_17_x86_64.manylinux2014_x86_64.whl (49.7 MB)\n",
            "\u001b[2K   \u001b[90m━━━━━━━━━━━━━━━━━━━━━━━━━━━━━━━━━━━━━━━━\u001b[0m \u001b[32m49.7/49.7 MB\u001b[0m \u001b[31m14.1 MB/s\u001b[0m eta \u001b[36m0:00:00\u001b[0m\n",
            "\u001b[?25hDownloading pbr-6.1.1-py2.py3-none-any.whl (108 kB)\n",
            "\u001b[2K   \u001b[90m━━━━━━━━━━━━━━━━━━━━━━━━━━━━━━━━━━━━━━━━\u001b[0m \u001b[32m109.0/109.0 kB\u001b[0m \u001b[31m8.6 MB/s\u001b[0m eta \u001b[36m0:00:00\u001b[0m\n",
            "\u001b[?25hInstalling collected packages: symengine, rustworkx, pbr, dill, stevedore, qiskit\n",
            "Successfully installed dill-0.4.0 pbr-6.1.1 qiskit-2.0.0 rustworkx-0.16.0 stevedore-5.4.1 symengine-0.13.0\n",
            "Collecting qiskit_nature\n",
            "  Downloading qiskit_nature-0.7.2-py3-none-any.whl.metadata (8.0 kB)\n",
            "Requirement already satisfied: qiskit>=0.44 in /usr/local/lib/python3.11/dist-packages (from qiskit_nature) (2.0.0)\n",
            "Collecting qiskit-algorithms>=0.2.1 (from qiskit_nature)\n",
            "  Downloading qiskit_algorithms-0.3.1-py3-none-any.whl.metadata (4.2 kB)\n",
            "Requirement already satisfied: scipy>=1.4 in /usr/local/lib/python3.11/dist-packages (from qiskit_nature) (1.14.1)\n",
            "Requirement already satisfied: numpy>=1.17 in /usr/local/lib/python3.11/dist-packages (from qiskit_nature) (2.0.2)\n",
            "Requirement already satisfied: psutil>=5 in /usr/local/lib/python3.11/dist-packages (from qiskit_nature) (5.9.5)\n",
            "Requirement already satisfied: setuptools>=40.1.0 in /usr/local/lib/python3.11/dist-packages (from qiskit_nature) (75.2.0)\n",
            "Requirement already satisfied: typing-extensions in /usr/local/lib/python3.11/dist-packages (from qiskit_nature) (4.13.2)\n",
            "Requirement already satisfied: h5py in /usr/local/lib/python3.11/dist-packages (from qiskit_nature) (3.13.0)\n",
            "Requirement already satisfied: rustworkx>=0.12 in /usr/local/lib/python3.11/dist-packages (from qiskit_nature) (0.16.0)\n",
            "Requirement already satisfied: sympy>=1.3 in /usr/local/lib/python3.11/dist-packages (from qiskit>=0.44->qiskit_nature) (1.13.1)\n",
            "Requirement already satisfied: dill>=0.3 in /usr/local/lib/python3.11/dist-packages (from qiskit>=0.44->qiskit_nature) (0.4.0)\n",
            "Requirement already satisfied: python-dateutil>=2.8.0 in /usr/local/lib/python3.11/dist-packages (from qiskit>=0.44->qiskit_nature) (2.8.2)\n",
            "Requirement already satisfied: stevedore>=3.0.0 in /usr/local/lib/python3.11/dist-packages (from qiskit>=0.44->qiskit_nature) (5.4.1)\n",
            "Requirement already satisfied: symengine<0.14,>=0.11 in /usr/local/lib/python3.11/dist-packages (from qiskit>=0.44->qiskit_nature) (0.13.0)\n",
            "Requirement already satisfied: six>=1.5 in /usr/local/lib/python3.11/dist-packages (from python-dateutil>=2.8.0->qiskit>=0.44->qiskit_nature) (1.17.0)\n",
            "Requirement already satisfied: pbr>=2.0.0 in /usr/local/lib/python3.11/dist-packages (from stevedore>=3.0.0->qiskit>=0.44->qiskit_nature) (6.1.1)\n",
            "Requirement already satisfied: mpmath<1.4,>=1.1.0 in /usr/local/lib/python3.11/dist-packages (from sympy>=1.3->qiskit>=0.44->qiskit_nature) (1.3.0)\n",
            "Downloading qiskit_nature-0.7.2-py3-none-any.whl (2.2 MB)\n",
            "\u001b[2K   \u001b[90m━━━━━━━━━━━━━━━━━━━━━━━━━━━━━━━━━━━━━━━━\u001b[0m \u001b[32m2.2/2.2 MB\u001b[0m \u001b[31m21.3 MB/s\u001b[0m eta \u001b[36m0:00:00\u001b[0m\n",
            "\u001b[?25hDownloading qiskit_algorithms-0.3.1-py3-none-any.whl (310 kB)\n",
            "\u001b[2K   \u001b[90m━━━━━━━━━━━━━━━━━━━━━━━━━━━━━━━━━━━━━━━━\u001b[0m \u001b[32m310.5/310.5 kB\u001b[0m \u001b[31m22.2 MB/s\u001b[0m eta \u001b[36m0:00:00\u001b[0m\n",
            "\u001b[?25hInstalling collected packages: qiskit-algorithms, qiskit_nature\n",
            "Successfully installed qiskit-algorithms-0.3.1 qiskit_nature-0.7.2\n",
            "Collecting qiskit_ibm_runtime\n",
            "  Downloading qiskit_ibm_runtime-0.38.0-py3-none-any.whl.metadata (21 kB)\n",
            "Requirement already satisfied: requests>=2.19 in /usr/local/lib/python3.11/dist-packages (from qiskit_ibm_runtime) (2.32.3)\n",
            "Collecting requests-ntlm>=1.1.0 (from qiskit_ibm_runtime)\n",
            "  Downloading requests_ntlm-1.3.0-py3-none-any.whl.metadata (2.4 kB)\n",
            "Requirement already satisfied: numpy>=1.13 in /usr/local/lib/python3.11/dist-packages (from qiskit_ibm_runtime) (2.0.2)\n",
            "Requirement already satisfied: urllib3>=1.21.1 in /usr/local/lib/python3.11/dist-packages (from qiskit_ibm_runtime) (2.3.0)\n",
            "Requirement already satisfied: python-dateutil>=2.8.0 in /usr/local/lib/python3.11/dist-packages (from qiskit_ibm_runtime) (2.8.2)\n",
            "Collecting ibm-platform-services>=0.22.6 (from qiskit_ibm_runtime)\n",
            "  Downloading ibm_platform_services-0.63.0-py3-none-any.whl.metadata (9.0 kB)\n",
            "Collecting pydantic<2.10,>=2.5.0 (from qiskit_ibm_runtime)\n",
            "  Downloading pydantic-2.9.2-py3-none-any.whl.metadata (149 kB)\n",
            "\u001b[2K     \u001b[90m━━━━━━━━━━━━━━━━━━━━━━━━━━━━━━━━━━━━━━━\u001b[0m \u001b[32m149.4/149.4 kB\u001b[0m \u001b[31m4.6 MB/s\u001b[0m eta \u001b[36m0:00:00\u001b[0m\n",
            "\u001b[?25hRequirement already satisfied: qiskit>=1.4.1 in /usr/local/lib/python3.11/dist-packages (from qiskit_ibm_runtime) (2.0.0)\n",
            "Requirement already satisfied: packaging in /usr/local/lib/python3.11/dist-packages (from qiskit_ibm_runtime) (24.2)\n",
            "Collecting ibm_cloud_sdk_core<4.0.0,>=3.22.1 (from ibm-platform-services>=0.22.6->qiskit_ibm_runtime)\n",
            "  Downloading ibm_cloud_sdk_core-3.23.0-py3-none-any.whl.metadata (8.7 kB)\n",
            "Requirement already satisfied: annotated-types>=0.6.0 in /usr/local/lib/python3.11/dist-packages (from pydantic<2.10,>=2.5.0->qiskit_ibm_runtime) (0.7.0)\n",
            "Collecting pydantic-core==2.23.4 (from pydantic<2.10,>=2.5.0->qiskit_ibm_runtime)\n",
            "  Downloading pydantic_core-2.23.4-cp311-cp311-manylinux_2_17_x86_64.manylinux2014_x86_64.whl.metadata (6.6 kB)\n",
            "Requirement already satisfied: typing-extensions>=4.6.1 in /usr/local/lib/python3.11/dist-packages (from pydantic<2.10,>=2.5.0->qiskit_ibm_runtime) (4.13.2)\n",
            "Requirement already satisfied: six>=1.5 in /usr/local/lib/python3.11/dist-packages (from python-dateutil>=2.8.0->qiskit_ibm_runtime) (1.17.0)\n",
            "Requirement already satisfied: rustworkx>=0.15.0 in /usr/local/lib/python3.11/dist-packages (from qiskit>=1.4.1->qiskit_ibm_runtime) (0.16.0)\n",
            "Requirement already satisfied: scipy>=1.5 in /usr/local/lib/python3.11/dist-packages (from qiskit>=1.4.1->qiskit_ibm_runtime) (1.14.1)\n",
            "Requirement already satisfied: sympy>=1.3 in /usr/local/lib/python3.11/dist-packages (from qiskit>=1.4.1->qiskit_ibm_runtime) (1.13.1)\n",
            "Requirement already satisfied: dill>=0.3 in /usr/local/lib/python3.11/dist-packages (from qiskit>=1.4.1->qiskit_ibm_runtime) (0.4.0)\n",
            "Requirement already satisfied: stevedore>=3.0.0 in /usr/local/lib/python3.11/dist-packages (from qiskit>=1.4.1->qiskit_ibm_runtime) (5.4.1)\n",
            "Requirement already satisfied: symengine<0.14,>=0.11 in /usr/local/lib/python3.11/dist-packages (from qiskit>=1.4.1->qiskit_ibm_runtime) (0.13.0)\n",
            "Requirement already satisfied: charset-normalizer<4,>=2 in /usr/local/lib/python3.11/dist-packages (from requests>=2.19->qiskit_ibm_runtime) (3.4.1)\n",
            "Requirement already satisfied: idna<4,>=2.5 in /usr/local/lib/python3.11/dist-packages (from requests>=2.19->qiskit_ibm_runtime) (3.10)\n",
            "Requirement already satisfied: certifi>=2017.4.17 in /usr/local/lib/python3.11/dist-packages (from requests>=2.19->qiskit_ibm_runtime) (2025.1.31)\n",
            "Requirement already satisfied: cryptography>=1.3 in /usr/local/lib/python3.11/dist-packages (from requests-ntlm>=1.1.0->qiskit_ibm_runtime) (43.0.3)\n",
            "Collecting pyspnego>=0.4.0 (from requests-ntlm>=1.1.0->qiskit_ibm_runtime)\n",
            "  Downloading pyspnego-0.11.2-py3-none-any.whl.metadata (5.4 kB)\n",
            "Requirement already satisfied: cffi>=1.12 in /usr/local/lib/python3.11/dist-packages (from cryptography>=1.3->requests-ntlm>=1.1.0->qiskit_ibm_runtime) (1.17.1)\n",
            "Requirement already satisfied: PyJWT<3.0.0,>=2.8.0 in /usr/local/lib/python3.11/dist-packages (from ibm_cloud_sdk_core<4.0.0,>=3.22.1->ibm-platform-services>=0.22.6->qiskit_ibm_runtime) (2.10.1)\n",
            "Requirement already satisfied: pbr>=2.0.0 in /usr/local/lib/python3.11/dist-packages (from stevedore>=3.0.0->qiskit>=1.4.1->qiskit_ibm_runtime) (6.1.1)\n",
            "Requirement already satisfied: mpmath<1.4,>=1.1.0 in /usr/local/lib/python3.11/dist-packages (from sympy>=1.3->qiskit>=1.4.1->qiskit_ibm_runtime) (1.3.0)\n",
            "Requirement already satisfied: pycparser in /usr/local/lib/python3.11/dist-packages (from cffi>=1.12->cryptography>=1.3->requests-ntlm>=1.1.0->qiskit_ibm_runtime) (2.22)\n",
            "Requirement already satisfied: setuptools in /usr/local/lib/python3.11/dist-packages (from pbr>=2.0.0->stevedore>=3.0.0->qiskit>=1.4.1->qiskit_ibm_runtime) (75.2.0)\n",
            "Downloading qiskit_ibm_runtime-0.38.0-py3-none-any.whl (3.2 MB)\n",
            "\u001b[2K   \u001b[90m━━━━━━━━━━━━━━━━━━━━━━━━━━━━━━━━━━━━━━━━\u001b[0m \u001b[32m3.2/3.2 MB\u001b[0m \u001b[31m32.6 MB/s\u001b[0m eta \u001b[36m0:00:00\u001b[0m\n",
            "\u001b[?25hDownloading ibm_platform_services-0.63.0-py3-none-any.whl (352 kB)\n",
            "\u001b[2K   \u001b[90m━━━━━━━━━━━━━━━━━━━━━━━━━━━━━━━━━━━━━━━━\u001b[0m \u001b[32m353.0/353.0 kB\u001b[0m \u001b[31m21.3 MB/s\u001b[0m eta \u001b[36m0:00:00\u001b[0m\n",
            "\u001b[?25hDownloading pydantic-2.9.2-py3-none-any.whl (434 kB)\n",
            "\u001b[2K   \u001b[90m━━━━━━━━━━━━━━━━━━━━━━━━━━━━━━━━━━━━━━━━\u001b[0m \u001b[32m434.9/434.9 kB\u001b[0m \u001b[31m25.0 MB/s\u001b[0m eta \u001b[36m0:00:00\u001b[0m\n",
            "\u001b[?25hDownloading pydantic_core-2.23.4-cp311-cp311-manylinux_2_17_x86_64.manylinux2014_x86_64.whl (2.1 MB)\n",
            "\u001b[2K   \u001b[90m━━━━━━━━━━━━━━━━━━━━━━━━━━━━━━━━━━━━━━━━\u001b[0m \u001b[32m2.1/2.1 MB\u001b[0m \u001b[31m37.2 MB/s\u001b[0m eta \u001b[36m0:00:00\u001b[0m\n",
            "\u001b[?25hDownloading requests_ntlm-1.3.0-py3-none-any.whl (6.6 kB)\n",
            "Downloading ibm_cloud_sdk_core-3.23.0-py3-none-any.whl (69 kB)\n",
            "\u001b[2K   \u001b[90m━━━━━━━━━━━━━━━━━━━━━━━━━━━━━━━━━━━━━━━━\u001b[0m \u001b[32m69.5/69.5 kB\u001b[0m \u001b[31m4.1 MB/s\u001b[0m eta \u001b[36m0:00:00\u001b[0m\n",
            "\u001b[?25hDownloading pyspnego-0.11.2-py3-none-any.whl (130 kB)\n",
            "\u001b[2K   \u001b[90m━━━━━━━━━━━━━━━━━━━━━━━━━━━━━━━━━━━━━━━━\u001b[0m \u001b[32m130.5/130.5 kB\u001b[0m \u001b[31m9.4 MB/s\u001b[0m eta \u001b[36m0:00:00\u001b[0m\n",
            "\u001b[?25hInstalling collected packages: pydantic-core, pydantic, ibm_cloud_sdk_core, pyspnego, ibm-platform-services, requests-ntlm, qiskit_ibm_runtime\n",
            "  Attempting uninstall: pydantic-core\n",
            "    Found existing installation: pydantic_core 2.33.1\n",
            "    Uninstalling pydantic_core-2.33.1:\n",
            "      Successfully uninstalled pydantic_core-2.33.1\n",
            "  Attempting uninstall: pydantic\n",
            "    Found existing installation: pydantic 2.11.3\n",
            "    Uninstalling pydantic-2.11.3:\n",
            "      Successfully uninstalled pydantic-2.11.3\n",
            "Successfully installed ibm-platform-services-0.63.0 ibm_cloud_sdk_core-3.23.0 pydantic-2.9.2 pydantic-core-2.23.4 pyspnego-0.11.2 qiskit_ibm_runtime-0.38.0 requests-ntlm-1.3.0\n",
            "Collecting pyscf\n",
            "  Downloading pyscf-2.9.0-py3-none-manylinux_2_17_x86_64.manylinux2014_x86_64.whl.metadata (6.4 kB)\n",
            "Requirement already satisfied: numpy!=1.16,!=1.17,>=1.13 in /usr/local/lib/python3.11/dist-packages (from pyscf) (2.0.2)\n",
            "Requirement already satisfied: scipy>=1.6.0 in /usr/local/lib/python3.11/dist-packages (from pyscf) (1.14.1)\n",
            "Requirement already satisfied: h5py>=2.7 in /usr/local/lib/python3.11/dist-packages (from pyscf) (3.13.0)\n",
            "Requirement already satisfied: setuptools in /usr/local/lib/python3.11/dist-packages (from pyscf) (75.2.0)\n",
            "Downloading pyscf-2.9.0-py3-none-manylinux_2_17_x86_64.manylinux2014_x86_64.whl (50.9 MB)\n",
            "\u001b[2K   \u001b[90m━━━━━━━━━━━━━━━━━━━━━━━━━━━━━━━━━━━━━━━━\u001b[0m \u001b[32m50.9/50.9 MB\u001b[0m \u001b[31m9.1 MB/s\u001b[0m eta \u001b[36m0:00:00\u001b[0m\n",
            "\u001b[?25hInstalling collected packages: pyscf\n",
            "Successfully installed pyscf-2.9.0\n"
          ]
        }
      ]
    },
    {
      "cell_type": "markdown",
      "id": "48c8e316-1587-412d-80a3-bf55996ff28e",
      "metadata": {
        "id": "48c8e316-1587-412d-80a3-bf55996ff28e"
      },
      "source": [
        "# 02: H-Atom Fast Forward\n",
        "\n",
        "Recent literature has shown methods such as Variational Fast Forwarding which aims to predict the long-term time evolutions of a system given data on the short-term evolutions of the system. Filip et al [1] and Cîrstoiu et al [2] have demonstrated two different ways to train a VFF using short-term evolution data. This dataset provides us short-term data and gives us testing points for long-term performance benchmarking"
      ]
    },
    {
      "cell_type": "markdown",
      "id": "5a721884-ec87-4304-8bdd-1804a51fa972",
      "metadata": {
        "id": "5a721884-ec87-4304-8bdd-1804a51fa972"
      },
      "source": [
        "## 02.1 Data Format\n",
        "\n",
        "The data generator gives us the following:\n",
        "- `⎢ѱHK〉`: The Hartree Fock State of the system\n",
        "- `X_train`: `[Δt, 2Δtm …MΔt]` which are uniform timestamps at which short-term evolutions are recorded\n",
        "- `Y_train`: `U(Δt)⎢ѱHK〉...U(MΔt)⎢ѱHK〉` which are the short-term evolutions but with noise\n",
        "- `X_test`: `[PΔt…NΔt]` which are the long-term timestamps\n",
        "- `Y_test`: `U(PΔt)⎢ѱHK〉…U(NΔt)⎢ѱHK〉` which are the long-term noiseless evolutions\n",
        "\n",
        "The data generator gets the `U(Δt)` and the `⎢ѱHK〉` from a H-atom model given by the hyperparameters. The noisy generations allow us to also benchmark our pipeline on how well it avoids overfitting to noise which wasn't discussed in the references above"
      ]
    },
    {
      "cell_type": "markdown",
      "id": "330408a5-a18b-4f0e-a2e5-68e0a051192a",
      "metadata": {
        "id": "330408a5-a18b-4f0e-a2e5-68e0a051192a"
      },
      "source": [
        "### 02.1.1 H-Atom Hamiltonians from PySCF\n",
        "\n",
        "We need some Chemistry to first decide what geometries to import.\n",
        "\n",
        "- H2: Usually found at a `0.735 Å` equilibrium bond distance [O’Malley et al. (2016)]\n",
        "- H3+: Usually found both in an equilateral triangle configuration with `0.9 Å` between each pair\n",
        "- H6: Usually modelled as a linear chain of 6 atoms with bond lengths `1 Å` between each pair\n"
      ]
    },
    {
      "cell_type": "code",
      "source": [
        "H2 = {\"atom\":\"H 0 0 0; H 0 0 0.735\", \"basis\":\"sto-3g\", \"charge\":0, \"spin\":0}\n",
        "H3 = {\"atom\":\"H 0 0 -0.45; H 0 0 0.45; H 0 0.78 0;\", \"basis\":\"sto-3g\", \"charge\":1, \"spin\":0}\n",
        "H6 = {\"atom\":\"H 0 0 0; H 0 0 1; H 0 0 2; H 0 0 3; H 0 0 4; H 0 0 5;\", \"basis\":\"sto-3g\", \"charge\":0, \"spin\":0}"
      ],
      "metadata": {
        "id": "fcoaKPXpKKAq"
      },
      "id": "fcoaKPXpKKAq",
      "execution_count": 15,
      "outputs": []
    },
    {
      "cell_type": "code",
      "execution_count": 16,
      "id": "d8899ce7-ca3a-4594-a079-1af9c4a9c3d8",
      "metadata": {
        "colab": {
          "base_uri": "https://localhost:8080/"
        },
        "id": "d8899ce7-ca3a-4594-a079-1af9c4a9c3d8",
        "outputId": "805af65b-efc4-4df9-a23e-1ae01c0e2c8a"
      },
      "outputs": [
        {
          "output_type": "execute_result",
          "data": {
            "text/plain": [
              "<pyscf.gto.mole.Mole at 0x7815175cbb10>"
            ]
          },
          "metadata": {},
          "execution_count": 16
        }
      ],
      "source": [
        "from pyscf import gto\n",
        "mol = gto.Mole()\n",
        "mol.build(**H2)"
      ]
    },
    {
      "cell_type": "markdown",
      "source": [
        "Fermionic Hamiltonians are of the form:\n",
        "\n",
        "$\\hat{H}\\;=\\;E_{\\text{nuc}}\\;+\\;\\sum_{p q} h_{p q}\\,a^{\\dagger}_{p}\\, a_{q}+\\;\\frac{1}{2}\\,\\sum_{p q r s}g_{p q r s}\\,a^{\\dagger}_{p}\\, a^{\\dagger}_{q}\\,a_{r}\\, a_{s}$\n",
        "\n",
        "The first term is the constant nuclear repulsions term. The other terms are first quantization and second quantization terms for Fermionic Pair Creations and Anhilations. The co-efficients are derived from Molecular Orbital Integrals"
      ],
      "metadata": {
        "id": "NPkOoekFUW8z"
      },
      "id": "NPkOoekFUW8z"
    },
    {
      "cell_type": "markdown",
      "source": [
        "#### Nuclear Repulsions Term"
      ],
      "metadata": {
        "id": "xut3nTF2WHU6"
      },
      "id": "xut3nTF2WHU6"
    },
    {
      "cell_type": "code",
      "execution_count": 17,
      "id": "577893e5-94ac-4bdd-81de-bc63b9d11811",
      "metadata": {
        "colab": {
          "base_uri": "https://localhost:8080/"
        },
        "id": "577893e5-94ac-4bdd-81de-bc63b9d11811",
        "outputId": "2faa147f-c001-45e8-9a4d-61476a64dc56"
      },
      "outputs": [
        {
          "output_type": "execute_result",
          "data": {
            "text/plain": [
              "np.float64(0.7199689944489797)"
            ]
          },
          "metadata": {},
          "execution_count": 17
        }
      ],
      "source": [
        "E_nuc = mol.energy_nuc()\n",
        "E_nuc"
      ]
    },
    {
      "cell_type": "markdown",
      "source": [
        "#### Solving Hartree Fock Iteratively"
      ],
      "metadata": {
        "id": "XEsDDOdBdgYh"
      },
      "id": "XEsDDOdBdgYh"
    },
    {
      "cell_type": "code",
      "source": [
        "from pyscf import scf\n",
        "mf = scf.RHF(mol).run()\n",
        "mf"
      ],
      "metadata": {
        "colab": {
          "base_uri": "https://localhost:8080/"
        },
        "id": "NArIjXgxWZEP",
        "outputId": "06d391c7-0628-495d-9378-13887c9490e9"
      },
      "id": "NArIjXgxWZEP",
      "execution_count": 18,
      "outputs": [
        {
          "output_type": "stream",
          "name": "stdout",
          "text": [
            "converged SCF energy = -1.116998996754\n"
          ]
        },
        {
          "output_type": "execute_result",
          "data": {
            "text/plain": [
              "<pyscf.scf.hf.RHF at 0x78150db04210>"
            ]
          },
          "metadata": {},
          "execution_count": 18
        }
      ]
    },
    {
      "cell_type": "markdown",
      "source": [
        "#### 1e and 2e Interactions in AO Basis"
      ],
      "metadata": {
        "id": "EtCTgKkNi_EQ"
      },
      "id": "EtCTgKkNi_EQ"
    },
    {
      "cell_type": "code",
      "source": [
        "h_ao  = mf.get_hcore()\n",
        "h_ao, h_ao.shape"
      ],
      "metadata": {
        "colab": {
          "base_uri": "https://localhost:8080/"
        },
        "id": "0mw12V0giNf5",
        "outputId": "9c320d4f-19a3-486f-ab8a-ec7c10385c86"
      },
      "id": "0mw12V0giNf5",
      "execution_count": 19,
      "outputs": [
        {
          "output_type": "execute_result",
          "data": {
            "text/plain": [
              "(array([[-1.12421758, -0.9652574 ],\n",
              "        [-0.9652574 , -1.12421758]]),\n",
              " (2, 2))"
            ]
          },
          "metadata": {},
          "execution_count": 19
        }
      ]
    },
    {
      "cell_type": "code",
      "source": [
        "g_ao  = mol.intor('int2e')\n",
        "g_ao, g_ao.shape"
      ],
      "metadata": {
        "colab": {
          "base_uri": "https://localhost:8080/"
        },
        "id": "gv95uo6jjGms",
        "outputId": "82213a3f-6818-4774-fe76-73c978dc58d4"
      },
      "id": "gv95uo6jjGms",
      "execution_count": 20,
      "outputs": [
        {
          "output_type": "execute_result",
          "data": {
            "text/plain": [
              "(array([[[[0.77460594, 0.44744572],\n",
              "          [0.44744572, 0.57187698]],\n",
              " \n",
              "         [[0.44744572, 0.3009177 ],\n",
              "          [0.3009177 , 0.44744572]]],\n",
              " \n",
              " \n",
              "        [[[0.44744572, 0.3009177 ],\n",
              "          [0.3009177 , 0.44744572]],\n",
              " \n",
              "         [[0.57187698, 0.44744572],\n",
              "          [0.44744572, 0.77460594]]]]),\n",
              " (2, 2, 2, 2))"
            ]
          },
          "metadata": {},
          "execution_count": 20
        }
      ]
    },
    {
      "cell_type": "markdown",
      "source": [
        "#### Converting to MO Basis"
      ],
      "metadata": {
        "id": "2wKA7DEWjolp"
      },
      "id": "2wKA7DEWjolp"
    },
    {
      "cell_type": "code",
      "source": [
        "C      = mf.mo_coeff\n",
        "h_mo   = C.T @ h_ao @ C\n",
        "h_mo"
      ],
      "metadata": {
        "colab": {
          "base_uri": "https://localhost:8080/"
        },
        "id": "nS0LH0FWjHfg",
        "outputId": "7142817e-e81b-44c9-d625-497859e049c7"
      },
      "id": "nS0LH0FWjHfg",
      "execution_count": 21,
      "outputs": [
        {
          "output_type": "execute_result",
          "data": {
            "text/plain": [
              "array([[-1.25633907e+00, -1.37083854e-17],\n",
              "       [-6.07732712e-17, -4.71896007e-01]])"
            ]
          },
          "metadata": {},
          "execution_count": 21
        }
      ]
    },
    {
      "cell_type": "code",
      "source": [
        "from pyscf import ao2mo\n",
        "g_mo_8fold = ao2mo.kernel(mol, C)\n",
        "g_mo = ao2mo.restore(1, g_mo_8fold, C.shape[1])\n",
        "g_mo"
      ],
      "metadata": {
        "colab": {
          "base_uri": "https://localhost:8080/"
        },
        "id": "u3dknnxRkWNL",
        "outputId": "395cb6a4-037f-4db7-dbcc-78be0093f4dc"
      },
      "id": "u3dknnxRkWNL",
      "execution_count": 22,
      "outputs": [
        {
          "output_type": "execute_result",
          "data": {
            "text/plain": [
              "array([[[[ 6.75710155e-01,  1.09338783e-16],\n",
              "         [ 1.09338783e-16,  6.64581730e-01]],\n",
              "\n",
              "        [[ 1.39486891e-16,  1.80931200e-01],\n",
              "         [ 1.80931200e-01, -1.03094037e-16]]],\n",
              "\n",
              "\n",
              "       [[[ 1.39486891e-16,  1.80931200e-01],\n",
              "         [ 1.80931200e-01, -1.03094037e-16]],\n",
              "\n",
              "        [[ 6.64581730e-01,  2.57172666e-16],\n",
              "         [ 2.57172666e-16,  6.98573723e-01]]]])"
            ]
          },
          "metadata": {},
          "execution_count": 22
        }
      ]
    },
    {
      "cell_type": "markdown",
      "source": [
        "#### Converting to SO Basis"
      ],
      "metadata": {
        "id": "3fzFk08qk2sg"
      },
      "id": "3fzFk08qk2sg"
    },
    {
      "cell_type": "code",
      "source": [
        "n_mo   = h_mo.shape[0]\n",
        "n_so   = 2 * n_mo\n",
        "\n",
        "h_so = np.zeros((n_so,n_so))\n",
        "for p in range(n_mo):\n",
        "    for q in range(n_mo):\n",
        "        h_so[2*p  ,2*q  ] = h_mo[p,q]\n",
        "        h_so[2*p+1,2*q+1] = h_mo[p,q]\n",
        "\n",
        "g_so = np.zeros((n_so, n_so, n_so, n_so))\n",
        "for p in range(n_mo):\n",
        "    for q in range(n_mo):\n",
        "        for r in range(n_mo):\n",
        "            for s in range(n_mo):\n",
        "                g_so[2*p  ,2*q  ,2*r  ,2*s  ] = g_mo[p,q,r,s]\n",
        "                g_so[2*p+1,2*q+1,2*r+1,2*s+1] = g_mo[p,q,r,s]\n"
      ],
      "metadata": {
        "id": "nttRWaklkZUo"
      },
      "id": "nttRWaklkZUo",
      "execution_count": 23,
      "outputs": []
    },
    {
      "cell_type": "code",
      "source": [
        "os.makedirs(\"_Hamiltonians\", exist_ok=True)\n",
        "with open(\"_Hamiltonians/H2_fermionic.bin\", \"wb\") as f:\n",
        "    pkl.dump((E_nuc, h_so, g_so), f)"
      ],
      "metadata": {
        "id": "rL0uB8ASlbIN"
      },
      "id": "rL0uB8ASlbIN",
      "execution_count": 24,
      "outputs": []
    },
    {
      "cell_type": "markdown",
      "source": [
        "### 02.1.2 Converting Fermionic Hamiltonian to Qubit Hamiltonian\n",
        "\n",
        "Jordan-Wigner mapping is when we map the state of occupancy of the orbitals to one qubit each. So the below equation shows the tranform that we will apply:\n",
        "\n",
        "$a_p ^\\dagger = \\frac 12 \\left(Z_0 \\otimes Z_1 \\ ... Z_{p-1} \\right) \\otimes \\left(X_p - j Y_p \\right)$\n",
        "\n",
        "The resulting Qubit Hamiltonian for H2 atom will be of the form:\n",
        "\n",
        "$\\hat H = c_0 I + c_1 Z_0 \\ ... + \\ c_5 Z_0 Z_1 + c_6 Z_0 Z_2 \\ ... + \\ c_{11} X_0X_1Y_2Y_3 + c_{12} X_0Y_1Y_2X_3 + c_{13} Y_0X_1X_2Y_3 + c_{13} Y_0Y_1X_2X_3$\n",
        "\n",
        "Now each term can be taken to the Unitary with CNOTs, Rys and Rzs that depend on the coefficients.\n",
        "\n",
        "We can define multiplication and addition for such symbolic terms to proceed"
      ],
      "metadata": {
        "id": "A12-sQHTe2nd"
      },
      "id": "A12-sQHTe2nd"
    },
    {
      "cell_type": "code",
      "source": [
        "# (op1, op2) -> (phase, op_res)\n",
        "mul_table = {\n",
        "    ('I','I'):(1,'I'), ('I','X'):(1,'X'), ('I','Y'):(1,'Y'), ('I','Z'):(1,'Z'),\n",
        "    ('X','I'):(1,'X'), ('X','X'):(1,'I'), ('X','Y'):(1j,'Z'),('X','Z'):(-1j,'Y'),\n",
        "    ('Y','I'):(1,'Y'), ('Y','X'):(-1j,'Z'),('Y','Y'):(1,'I'),('Y','Z'):(1j,'X'),\n",
        "    ('Z','I'):(1,'Z'), ('Z','X'):(1j,'Y'), ('Z','Y'):(-1j,'X'),('Z','Z'):(1,'I')\n",
        "}\n",
        "\n",
        "# pauli string is the list of single qubit gates for each qubit [Z,Z,Z,Z,X,I,I]\n",
        "def a_p(p,n):\n",
        "    # Anything can be represented as a sum of {string:coeff}\n",
        "    str1 = tuple(['Z']*p + ['X'] + ['I']*(n-p-1))\n",
        "    str2 = tuple(['Z']*p + ['Y'] + ['I']*(n-p-1))\n",
        "    return {str1:0.5, str2:-0.5j}\n",
        "def a_p_dag(p,n):\n",
        "    str1 = tuple(['Z']*p + ['X'] + ['I']*(n-p-1))\n",
        "    str2 = tuple(['Z']*p + ['Y'] + ['I']*(n-p-1))\n",
        "    return {str1:0.5, str2:+0.5j}\n",
        "\n",
        "def mul_strs(str1, str2):\n",
        "    phase = 1\n",
        "    res = []\n",
        "    for i in range(len(str1)):\n",
        "        mul = mul_table[(str1[i], str2[i])]\n",
        "        phase *= mul[0]\n",
        "        res.append(mul[1])\n",
        "    return (phase, tuple(res))\n",
        "\n",
        "def mul_pauli(t1, t2):\n",
        "    res = {}\n",
        "    t1 = t1.items()\n",
        "    t2 = t2.items()\n",
        "    for (str1, c1) in t1:\n",
        "        for (str2, c2) in t2:\n",
        "            mul = mul_strs(str1,str2)\n",
        "            coeff = mul[0]*c1*c2\n",
        "            str_res = mul[1]\n",
        "            if str_res in res:\n",
        "                res[str_res] += coeff\n",
        "            else:\n",
        "                res[str_res] = coeff\n",
        "    return res\n",
        "\n",
        "def add_pauli(t1,t2):\n",
        "    res = t2.copy()\n",
        "    t1 = t1.items()\n",
        "    for (str1, c1) in t1:\n",
        "        if str1 in res:\n",
        "            res[str1] += c1\n",
        "            if res[str1] == 0:\n",
        "                del res[str1]\n",
        "        else:\n",
        "            res[str1] = c1\n",
        "    return res"
      ],
      "metadata": {
        "id": "-DKozAmiw5lx"
      },
      "id": "-DKozAmiw5lx",
      "execution_count": 25,
      "outputs": []
    },
    {
      "cell_type": "markdown",
      "source": [
        "#### Arranging (E_nuc, h_so, g_so) into pauli form"
      ],
      "metadata": {
        "id": "qpobJDzntZbu"
      },
      "id": "qpobJDzntZbu"
    },
    {
      "cell_type": "code",
      "source": [
        "def JW_map(E_nuc, h_so, g_so, eps=1e-12):\n",
        "    n = h_so.shape[0]\n",
        "    H = {tuple(['I']*n): E_nuc}       # start with the constant term\n",
        "\n",
        "    # ------- one-body part  Σ h_pq a†_p a_q -------\n",
        "    for p in range(n):\n",
        "        for q in range(n):\n",
        "            coeff = h_so[p, q]\n",
        "            if abs(coeff) < eps:\n",
        "                continue\n",
        "            term_pq = mul_pauli(a_p_dag(p, n), a_p(q, n))\n",
        "            for s, c in term_pq.items():\n",
        "                H[s] = H.get(s, 0.0) + coeff * c\n",
        "\n",
        "    # ------- two-body part  ½ Σ g_pqrs a†_p a†_q a_s a_r -------\n",
        "    for p in range(n):\n",
        "        for q in range(n):\n",
        "            for r in range(n):\n",
        "                for s in range(n):\n",
        "                    coeff = 0.5 * g_so[p, q, r, s]\n",
        "                    if abs(coeff) < eps:\n",
        "                        continue\n",
        "                    term = mul_pauli(\n",
        "                        mul_pauli(a_p_dag(p, n), a_p_dag(q, n)),\n",
        "                        mul_pauli(a_p(s, n), a_p(r, n))\n",
        "                    )\n",
        "                    for st, ct in term.items():\n",
        "                        H[st] = H.get(st, 0.0) + coeff * ct\n",
        "\n",
        "    # prune numerically-zero entries\n",
        "    return {k: v for k, v in H.items() if abs(v) > eps}"
      ],
      "metadata": {
        "id": "C5vC_zMtsZeu"
      },
      "id": "C5vC_zMtsZeu",
      "execution_count": 26,
      "outputs": []
    },
    {
      "cell_type": "code",
      "source": [
        "JW_map(E_nuc, h_so, g_so)"
      ],
      "metadata": {
        "id": "F9CPGikVyYQS",
        "outputId": "cfcafac7-31ea-408c-af3f-320d13e3662b",
        "colab": {
          "base_uri": "https://localhost:8080/"
        }
      },
      "id": "F9CPGikVyYQS",
      "execution_count": 27,
      "outputs": [
        {
          "output_type": "execute_result",
          "data": {
            "text/plain": [
              "{('I', 'I', 'I', 'I'): np.complex128(-1.0082660858354122+0j),\n",
              " ('Z', 'I', 'I', 'I'): np.complex128(-0.628169536501625+0j),\n",
              " ('I', 'Z', 'I', 'I'): np.complex128(-0.628169536501625+0j),\n",
              " ('I', 'I', 'Z', 'I'): np.complex128(-0.23594800364057092+0j),\n",
              " ('I', 'I', 'I', 'Z'): np.complex128(-0.23594800364057092+0j)}"
            ]
          },
          "metadata": {},
          "execution_count": 27
        }
      ]
    },
    {
      "cell_type": "code",
      "source": [],
      "metadata": {
        "id": "IWMHpH46ycNw"
      },
      "id": "IWMHpH46ycNw",
      "execution_count": 27,
      "outputs": []
    }
  ],
  "metadata": {
    "kernelspec": {
      "display_name": "Python 3 (ipykernel)",
      "language": "python",
      "name": "python3"
    },
    "language_info": {
      "codemirror_mode": {
        "name": "ipython",
        "version": 3
      },
      "file_extension": ".py",
      "mimetype": "text/x-python",
      "name": "python",
      "nbconvert_exporter": "python",
      "pygments_lexer": "ipython3",
      "version": "3.10.5"
    },
    "colab": {
      "provenance": []
    }
  },
  "nbformat": 4,
  "nbformat_minor": 5
}