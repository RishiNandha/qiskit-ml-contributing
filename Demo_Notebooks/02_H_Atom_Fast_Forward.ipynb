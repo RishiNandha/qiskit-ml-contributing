{
  "cells": [
    {
      "cell_type": "code",
      "source": [
        "!pip install qiskit\n",
        "!pip install qiskit_nature\n",
        "!pip install qiskit_ibm_runtime\n",
        "!pip install --prefer-binary pyscf\n",
        "import numpy as np\n",
        "import pickle as pkl\n",
        "import os"
      ],
      "metadata": {
        "colab": {
          "base_uri": "https://localhost:8080/"
        },
        "id": "aG8nQRmU52PI",
        "outputId": "7ca98344-34df-4512-abe0-0ad93df40d5c"
      },
      "id": "aG8nQRmU52PI",
      "execution_count": 22,
      "outputs": [
        {
          "output_type": "stream",
          "name": "stdout",
          "text": [
            "Requirement already satisfied: qiskit in /usr/local/lib/python3.11/dist-packages (2.0.0)\n",
            "Requirement already satisfied: rustworkx>=0.15.0 in /usr/local/lib/python3.11/dist-packages (from qiskit) (0.16.0)\n",
            "Requirement already satisfied: numpy<3,>=1.17 in /usr/local/lib/python3.11/dist-packages (from qiskit) (2.0.2)\n",
            "Requirement already satisfied: scipy>=1.5 in /usr/local/lib/python3.11/dist-packages (from qiskit) (1.14.1)\n",
            "Requirement already satisfied: sympy>=1.3 in /usr/local/lib/python3.11/dist-packages (from qiskit) (1.13.1)\n",
            "Requirement already satisfied: dill>=0.3 in /usr/local/lib/python3.11/dist-packages (from qiskit) (0.4.0)\n",
            "Requirement already satisfied: python-dateutil>=2.8.0 in /usr/local/lib/python3.11/dist-packages (from qiskit) (2.8.2)\n",
            "Requirement already satisfied: stevedore>=3.0.0 in /usr/local/lib/python3.11/dist-packages (from qiskit) (5.4.1)\n",
            "Requirement already satisfied: typing-extensions in /usr/local/lib/python3.11/dist-packages (from qiskit) (4.13.2)\n",
            "Requirement already satisfied: symengine<0.14,>=0.11 in /usr/local/lib/python3.11/dist-packages (from qiskit) (0.13.0)\n",
            "Requirement already satisfied: six>=1.5 in /usr/local/lib/python3.11/dist-packages (from python-dateutil>=2.8.0->qiskit) (1.17.0)\n",
            "Requirement already satisfied: pbr>=2.0.0 in /usr/local/lib/python3.11/dist-packages (from stevedore>=3.0.0->qiskit) (6.1.1)\n",
            "Requirement already satisfied: mpmath<1.4,>=1.1.0 in /usr/local/lib/python3.11/dist-packages (from sympy>=1.3->qiskit) (1.3.0)\n",
            "Requirement already satisfied: setuptools in /usr/local/lib/python3.11/dist-packages (from pbr>=2.0.0->stevedore>=3.0.0->qiskit) (75.2.0)\n",
            "Requirement already satisfied: qiskit_nature in /usr/local/lib/python3.11/dist-packages (0.7.2)\n",
            "Requirement already satisfied: qiskit>=0.44 in /usr/local/lib/python3.11/dist-packages (from qiskit_nature) (2.0.0)\n",
            "Requirement already satisfied: qiskit-algorithms>=0.2.1 in /usr/local/lib/python3.11/dist-packages (from qiskit_nature) (0.3.1)\n",
            "Requirement already satisfied: scipy>=1.4 in /usr/local/lib/python3.11/dist-packages (from qiskit_nature) (1.14.1)\n",
            "Requirement already satisfied: numpy>=1.17 in /usr/local/lib/python3.11/dist-packages (from qiskit_nature) (2.0.2)\n",
            "Requirement already satisfied: psutil>=5 in /usr/local/lib/python3.11/dist-packages (from qiskit_nature) (5.9.5)\n",
            "Requirement already satisfied: setuptools>=40.1.0 in /usr/local/lib/python3.11/dist-packages (from qiskit_nature) (75.2.0)\n",
            "Requirement already satisfied: typing-extensions in /usr/local/lib/python3.11/dist-packages (from qiskit_nature) (4.13.2)\n",
            "Requirement already satisfied: h5py in /usr/local/lib/python3.11/dist-packages (from qiskit_nature) (3.13.0)\n",
            "Requirement already satisfied: rustworkx>=0.12 in /usr/local/lib/python3.11/dist-packages (from qiskit_nature) (0.16.0)\n",
            "Requirement already satisfied: sympy>=1.3 in /usr/local/lib/python3.11/dist-packages (from qiskit>=0.44->qiskit_nature) (1.13.1)\n",
            "Requirement already satisfied: dill>=0.3 in /usr/local/lib/python3.11/dist-packages (from qiskit>=0.44->qiskit_nature) (0.4.0)\n",
            "Requirement already satisfied: python-dateutil>=2.8.0 in /usr/local/lib/python3.11/dist-packages (from qiskit>=0.44->qiskit_nature) (2.8.2)\n",
            "Requirement already satisfied: stevedore>=3.0.0 in /usr/local/lib/python3.11/dist-packages (from qiskit>=0.44->qiskit_nature) (5.4.1)\n",
            "Requirement already satisfied: symengine<0.14,>=0.11 in /usr/local/lib/python3.11/dist-packages (from qiskit>=0.44->qiskit_nature) (0.13.0)\n",
            "Requirement already satisfied: six>=1.5 in /usr/local/lib/python3.11/dist-packages (from python-dateutil>=2.8.0->qiskit>=0.44->qiskit_nature) (1.17.0)\n",
            "Requirement already satisfied: pbr>=2.0.0 in /usr/local/lib/python3.11/dist-packages (from stevedore>=3.0.0->qiskit>=0.44->qiskit_nature) (6.1.1)\n",
            "Requirement already satisfied: mpmath<1.4,>=1.1.0 in /usr/local/lib/python3.11/dist-packages (from sympy>=1.3->qiskit>=0.44->qiskit_nature) (1.3.0)\n",
            "Requirement already satisfied: qiskit_ibm_runtime in /usr/local/lib/python3.11/dist-packages (0.38.0)\n",
            "Requirement already satisfied: requests>=2.19 in /usr/local/lib/python3.11/dist-packages (from qiskit_ibm_runtime) (2.32.3)\n",
            "Requirement already satisfied: requests-ntlm>=1.1.0 in /usr/local/lib/python3.11/dist-packages (from qiskit_ibm_runtime) (1.3.0)\n",
            "Requirement already satisfied: numpy>=1.13 in /usr/local/lib/python3.11/dist-packages (from qiskit_ibm_runtime) (2.0.2)\n",
            "Requirement already satisfied: urllib3>=1.21.1 in /usr/local/lib/python3.11/dist-packages (from qiskit_ibm_runtime) (2.3.0)\n",
            "Requirement already satisfied: python-dateutil>=2.8.0 in /usr/local/lib/python3.11/dist-packages (from qiskit_ibm_runtime) (2.8.2)\n",
            "Requirement already satisfied: ibm-platform-services>=0.22.6 in /usr/local/lib/python3.11/dist-packages (from qiskit_ibm_runtime) (0.63.0)\n",
            "Requirement already satisfied: pydantic<2.10,>=2.5.0 in /usr/local/lib/python3.11/dist-packages (from qiskit_ibm_runtime) (2.9.2)\n",
            "Requirement already satisfied: qiskit>=1.4.1 in /usr/local/lib/python3.11/dist-packages (from qiskit_ibm_runtime) (2.0.0)\n",
            "Requirement already satisfied: packaging in /usr/local/lib/python3.11/dist-packages (from qiskit_ibm_runtime) (24.2)\n",
            "Requirement already satisfied: ibm_cloud_sdk_core<4.0.0,>=3.22.1 in /usr/local/lib/python3.11/dist-packages (from ibm-platform-services>=0.22.6->qiskit_ibm_runtime) (3.23.0)\n",
            "Requirement already satisfied: annotated-types>=0.6.0 in /usr/local/lib/python3.11/dist-packages (from pydantic<2.10,>=2.5.0->qiskit_ibm_runtime) (0.7.0)\n",
            "Requirement already satisfied: pydantic-core==2.23.4 in /usr/local/lib/python3.11/dist-packages (from pydantic<2.10,>=2.5.0->qiskit_ibm_runtime) (2.23.4)\n",
            "Requirement already satisfied: typing-extensions>=4.6.1 in /usr/local/lib/python3.11/dist-packages (from pydantic<2.10,>=2.5.0->qiskit_ibm_runtime) (4.13.2)\n",
            "Requirement already satisfied: six>=1.5 in /usr/local/lib/python3.11/dist-packages (from python-dateutil>=2.8.0->qiskit_ibm_runtime) (1.17.0)\n",
            "Requirement already satisfied: rustworkx>=0.15.0 in /usr/local/lib/python3.11/dist-packages (from qiskit>=1.4.1->qiskit_ibm_runtime) (0.16.0)\n",
            "Requirement already satisfied: scipy>=1.5 in /usr/local/lib/python3.11/dist-packages (from qiskit>=1.4.1->qiskit_ibm_runtime) (1.14.1)\n",
            "Requirement already satisfied: sympy>=1.3 in /usr/local/lib/python3.11/dist-packages (from qiskit>=1.4.1->qiskit_ibm_runtime) (1.13.1)\n",
            "Requirement already satisfied: dill>=0.3 in /usr/local/lib/python3.11/dist-packages (from qiskit>=1.4.1->qiskit_ibm_runtime) (0.4.0)\n",
            "Requirement already satisfied: stevedore>=3.0.0 in /usr/local/lib/python3.11/dist-packages (from qiskit>=1.4.1->qiskit_ibm_runtime) (5.4.1)\n",
            "Requirement already satisfied: symengine<0.14,>=0.11 in /usr/local/lib/python3.11/dist-packages (from qiskit>=1.4.1->qiskit_ibm_runtime) (0.13.0)\n",
            "Requirement already satisfied: charset-normalizer<4,>=2 in /usr/local/lib/python3.11/dist-packages (from requests>=2.19->qiskit_ibm_runtime) (3.4.1)\n",
            "Requirement already satisfied: idna<4,>=2.5 in /usr/local/lib/python3.11/dist-packages (from requests>=2.19->qiskit_ibm_runtime) (3.10)\n",
            "Requirement already satisfied: certifi>=2017.4.17 in /usr/local/lib/python3.11/dist-packages (from requests>=2.19->qiskit_ibm_runtime) (2025.1.31)\n",
            "Requirement already satisfied: cryptography>=1.3 in /usr/local/lib/python3.11/dist-packages (from requests-ntlm>=1.1.0->qiskit_ibm_runtime) (43.0.3)\n",
            "Requirement already satisfied: pyspnego>=0.4.0 in /usr/local/lib/python3.11/dist-packages (from requests-ntlm>=1.1.0->qiskit_ibm_runtime) (0.11.2)\n",
            "Requirement already satisfied: cffi>=1.12 in /usr/local/lib/python3.11/dist-packages (from cryptography>=1.3->requests-ntlm>=1.1.0->qiskit_ibm_runtime) (1.17.1)\n",
            "Requirement already satisfied: PyJWT<3.0.0,>=2.8.0 in /usr/local/lib/python3.11/dist-packages (from ibm_cloud_sdk_core<4.0.0,>=3.22.1->ibm-platform-services>=0.22.6->qiskit_ibm_runtime) (2.10.1)\n",
            "Requirement already satisfied: pbr>=2.0.0 in /usr/local/lib/python3.11/dist-packages (from stevedore>=3.0.0->qiskit>=1.4.1->qiskit_ibm_runtime) (6.1.1)\n",
            "Requirement already satisfied: mpmath<1.4,>=1.1.0 in /usr/local/lib/python3.11/dist-packages (from sympy>=1.3->qiskit>=1.4.1->qiskit_ibm_runtime) (1.3.0)\n",
            "Requirement already satisfied: pycparser in /usr/local/lib/python3.11/dist-packages (from cffi>=1.12->cryptography>=1.3->requests-ntlm>=1.1.0->qiskit_ibm_runtime) (2.22)\n",
            "Requirement already satisfied: setuptools in /usr/local/lib/python3.11/dist-packages (from pbr>=2.0.0->stevedore>=3.0.0->qiskit>=1.4.1->qiskit_ibm_runtime) (75.2.0)\n",
            "Requirement already satisfied: pyscf in /usr/local/lib/python3.11/dist-packages (2.9.0)\n",
            "Requirement already satisfied: numpy!=1.16,!=1.17,>=1.13 in /usr/local/lib/python3.11/dist-packages (from pyscf) (2.0.2)\n",
            "Requirement already satisfied: scipy>=1.6.0 in /usr/local/lib/python3.11/dist-packages (from pyscf) (1.14.1)\n",
            "Requirement already satisfied: h5py>=2.7 in /usr/local/lib/python3.11/dist-packages (from pyscf) (3.13.0)\n",
            "Requirement already satisfied: setuptools in /usr/local/lib/python3.11/dist-packages (from pyscf) (75.2.0)\n"
          ]
        }
      ]
    },
    {
      "cell_type": "markdown",
      "id": "48c8e316-1587-412d-80a3-bf55996ff28e",
      "metadata": {
        "id": "48c8e316-1587-412d-80a3-bf55996ff28e"
      },
      "source": [
        "# 02: H-Atom Fast Forward\n",
        "\n",
        "Recent literature has shown methods such as Variational Fast Forwarding which aims to predict the long-term time evolutions of a system given data on the short-term evolutions of the system. Filip et al [1] and Cîrstoiu et al [2] have demonstrated two different ways to train a VFF using short-term evolution data. This dataset provides us short-term data and gives us testing points for long-term performance benchmarking"
      ]
    },
    {
      "cell_type": "markdown",
      "id": "5a721884-ec87-4304-8bdd-1804a51fa972",
      "metadata": {
        "id": "5a721884-ec87-4304-8bdd-1804a51fa972"
      },
      "source": [
        "## 02.1 Data Format\n",
        "\n",
        "The data generator gives us the following:\n",
        "- `⎢ѱHK〉`: The Hartree Fock State of the system\n",
        "- `X_train`: `[Δt, 2Δtm …MΔt]` which are uniform timestamps at which short-term evolutions are recorded\n",
        "- `Y_train`: `U(Δt)⎢ѱHK〉...U(MΔt)⎢ѱHK〉` which are the short-term evolutions but with noise\n",
        "- `X_test`: `[PΔt…NΔt]` which are the long-term timestamps\n",
        "- `Y_test`: `U(PΔt)⎢ѱHK〉…U(NΔt)⎢ѱHK〉` which are the long-term noiseless evolutions\n",
        "\n",
        "The data generator gets the `U(Δt)` and the `⎢ѱHK〉` from a H-atom model given by the hyperparameters. The noisy generations allow us to also benchmark our pipeline on how well it avoids overfitting to noise which wasn't discussed in the references above"
      ]
    },
    {
      "cell_type": "markdown",
      "id": "330408a5-a18b-4f0e-a2e5-68e0a051192a",
      "metadata": {
        "id": "330408a5-a18b-4f0e-a2e5-68e0a051192a"
      },
      "source": [
        "### 02.1.1 H-Atom Hamiltonians\n",
        "\n",
        "We need some Chemistry to first decide what geometries to import.\n",
        "\n",
        "- H2: Usually found at a `0.735 Å` equilibrium bond distance [O’Malley et al. (2016)]\n",
        "- H3+: Usually found both in an equilateral triangle configuration with `0.9 Å` between each pair\n",
        "- H6: Usually modelled as a linear chain of 6 atoms with bond lengths `1 Å` between each pair\n"
      ]
    },
    {
      "cell_type": "code",
      "source": [
        "H2 = {\"atom\":\"H 0 0 0; H 0 0 0.735\", \"basis\":\"sto-3g\", \"charge\":0, \"spin\":0}\n",
        "H3 = {\"atom\":\"H 0 0 -0.45; H 0 0 0.45; H 0 0.78 0;\", \"basis\":\"sto-3g\", \"charge\":1, \"spin\":0}\n",
        "H6 = {\"atom\":\"H 0 0 0; H 0 0 1; H 0 0 2; H 0 0 3; H 0 0 4; H 0 0 5;\", \"basis\":\"sto-3g\", \"charge\":0, \"spin\":0}"
      ],
      "metadata": {
        "id": "fcoaKPXpKKAq"
      },
      "id": "fcoaKPXpKKAq",
      "execution_count": 23,
      "outputs": []
    },
    {
      "cell_type": "markdown",
      "id": "2fdc34c9-39c9-4af6-ac5b-e38336ba5b8f",
      "metadata": {
        "id": "2fdc34c9-39c9-4af6-ac5b-e38336ba5b8f"
      },
      "source": [
        "#### Electronic Hamiltonians from PySCF for H2"
      ]
    },
    {
      "cell_type": "code",
      "execution_count": 24,
      "id": "d8899ce7-ca3a-4594-a079-1af9c4a9c3d8",
      "metadata": {
        "colab": {
          "base_uri": "https://localhost:8080/"
        },
        "id": "d8899ce7-ca3a-4594-a079-1af9c4a9c3d8",
        "outputId": "a189326a-a450-4729-bc65-0e68463fc171"
      },
      "outputs": [
        {
          "output_type": "execute_result",
          "data": {
            "text/plain": [
              "<pyscf.gto.mole.Mole at 0x7aa421e6c650>"
            ]
          },
          "metadata": {},
          "execution_count": 24
        }
      ],
      "source": [
        "from pyscf import gto\n",
        "mol = gto.Mole()\n",
        "mol.build(**H2)"
      ]
    },
    {
      "cell_type": "markdown",
      "source": [
        "Fermionic Hamiltonians are of the form:\n",
        "\n",
        "$\\hat{H}\\;=\\;E_{\\text{nuc}}\\;+\\;\\sum_{p q} h_{p q}\\,a^{\\dagger}_{p}\\, a_{q}+\\;\\frac{1}{2}\\,\\sum_{p q r s}g_{p q r s}\\,a^{\\dagger}_{p}\\, a^{\\dagger}_{q}\\,a_{r}\\, a_{s}$\n",
        "\n",
        "The first term is the constant nuclear repulsions term. The other terms are first quantization and second quantization terms for Fermionic Pair Creations and Anhilations. The co-efficients are derived from Molecular Orbital Integrals"
      ],
      "metadata": {
        "id": "NPkOoekFUW8z"
      },
      "id": "NPkOoekFUW8z"
    },
    {
      "cell_type": "markdown",
      "source": [
        "##### Nuclear Repulsions Term"
      ],
      "metadata": {
        "id": "xut3nTF2WHU6"
      },
      "id": "xut3nTF2WHU6"
    },
    {
      "cell_type": "code",
      "execution_count": 25,
      "id": "577893e5-94ac-4bdd-81de-bc63b9d11811",
      "metadata": {
        "colab": {
          "base_uri": "https://localhost:8080/"
        },
        "id": "577893e5-94ac-4bdd-81de-bc63b9d11811",
        "outputId": "bbb1eb3f-44ca-4ad9-bc21-640921febb58"
      },
      "outputs": [
        {
          "output_type": "execute_result",
          "data": {
            "text/plain": [
              "np.float64(0.7199689944489797)"
            ]
          },
          "metadata": {},
          "execution_count": 25
        }
      ],
      "source": [
        "E_nuc = mol.energy_nuc()\n",
        "E_nuc"
      ]
    },
    {
      "cell_type": "markdown",
      "source": [
        "##### Solving Hartree Fock Iteratively"
      ],
      "metadata": {
        "id": "XEsDDOdBdgYh"
      },
      "id": "XEsDDOdBdgYh"
    },
    {
      "cell_type": "code",
      "source": [
        "from pyscf import scf\n",
        "mf = scf.RHF(mol).run()\n",
        "mf"
      ],
      "metadata": {
        "colab": {
          "base_uri": "https://localhost:8080/"
        },
        "id": "NArIjXgxWZEP",
        "outputId": "304091f0-93bc-4e3d-a458-23b94efdd6a2"
      },
      "id": "NArIjXgxWZEP",
      "execution_count": 26,
      "outputs": [
        {
          "output_type": "stream",
          "name": "stdout",
          "text": [
            "converged SCF energy = -1.116998996754\n"
          ]
        },
        {
          "output_type": "execute_result",
          "data": {
            "text/plain": [
              "<pyscf.scf.hf.RHF at 0x7aa421cb3a90>"
            ]
          },
          "metadata": {},
          "execution_count": 26
        }
      ]
    },
    {
      "cell_type": "markdown",
      "source": [
        "##### 1e and 2e Interactions in AO Basis"
      ],
      "metadata": {
        "id": "EtCTgKkNi_EQ"
      },
      "id": "EtCTgKkNi_EQ"
    },
    {
      "cell_type": "code",
      "source": [
        "h_ao  = mf.get_hcore()\n",
        "h_ao, h_ao.shape"
      ],
      "metadata": {
        "colab": {
          "base_uri": "https://localhost:8080/"
        },
        "id": "0mw12V0giNf5",
        "outputId": "e9aee339-6e8f-47da-e941-b75d2b742a18"
      },
      "id": "0mw12V0giNf5",
      "execution_count": 27,
      "outputs": [
        {
          "output_type": "execute_result",
          "data": {
            "text/plain": [
              "(array([[-1.12421758, -0.9652574 ],\n",
              "        [-0.9652574 , -1.12421758]]),\n",
              " (2, 2))"
            ]
          },
          "metadata": {},
          "execution_count": 27
        }
      ]
    },
    {
      "cell_type": "code",
      "source": [
        "g_ao  = mol.intor('int2e')\n",
        "g_ao, g_ao.shape"
      ],
      "metadata": {
        "colab": {
          "base_uri": "https://localhost:8080/"
        },
        "id": "gv95uo6jjGms",
        "outputId": "305ae8be-c7fc-46cb-d35e-af96565d0f69"
      },
      "id": "gv95uo6jjGms",
      "execution_count": 28,
      "outputs": [
        {
          "output_type": "execute_result",
          "data": {
            "text/plain": [
              "(array([[[[0.77460594, 0.44744572],\n",
              "          [0.44744572, 0.57187698]],\n",
              " \n",
              "         [[0.44744572, 0.3009177 ],\n",
              "          [0.3009177 , 0.44744572]]],\n",
              " \n",
              " \n",
              "        [[[0.44744572, 0.3009177 ],\n",
              "          [0.3009177 , 0.44744572]],\n",
              " \n",
              "         [[0.57187698, 0.44744572],\n",
              "          [0.44744572, 0.77460594]]]]),\n",
              " (2, 2, 2, 2))"
            ]
          },
          "metadata": {},
          "execution_count": 28
        }
      ]
    },
    {
      "cell_type": "markdown",
      "source": [
        "##### Converting to MO Basis"
      ],
      "metadata": {
        "id": "2wKA7DEWjolp"
      },
      "id": "2wKA7DEWjolp"
    },
    {
      "cell_type": "code",
      "source": [
        "C      = mf.mo_coeff\n",
        "h_mo   = C.T @ h_ao @ C\n",
        "h_mo"
      ],
      "metadata": {
        "colab": {
          "base_uri": "https://localhost:8080/"
        },
        "id": "nS0LH0FWjHfg",
        "outputId": "0c01cc0c-988f-4720-fbf6-dd02b2987090"
      },
      "id": "nS0LH0FWjHfg",
      "execution_count": 29,
      "outputs": [
        {
          "output_type": "execute_result",
          "data": {
            "text/plain": [
              "array([[-1.25633907e+00, -1.37083854e-17],\n",
              "       [-6.07732712e-17, -4.71896007e-01]])"
            ]
          },
          "metadata": {},
          "execution_count": 29
        }
      ]
    },
    {
      "cell_type": "code",
      "source": [
        "from pyscf import ao2mo\n",
        "g_mo_8fold = ao2mo.kernel(mol, C)\n",
        "g_mo = ao2mo.restore(1, g_mo_8fold, C.shape[1])\n",
        "g_mo"
      ],
      "metadata": {
        "id": "u3dknnxRkWNL",
        "outputId": "7a8700ce-5b51-4503-e785-1f64273022d7",
        "colab": {
          "base_uri": "https://localhost:8080/"
        }
      },
      "id": "u3dknnxRkWNL",
      "execution_count": 30,
      "outputs": [
        {
          "output_type": "execute_result",
          "data": {
            "text/plain": [
              "array([[[[ 6.75710155e-01,  1.09338783e-16],\n",
              "         [ 1.09338783e-16,  6.64581730e-01]],\n",
              "\n",
              "        [[ 1.39486891e-16,  1.80931200e-01],\n",
              "         [ 1.80931200e-01, -1.03094037e-16]]],\n",
              "\n",
              "\n",
              "       [[[ 1.39486891e-16,  1.80931200e-01],\n",
              "         [ 1.80931200e-01, -1.03094037e-16]],\n",
              "\n",
              "        [[ 6.64581730e-01,  2.57172666e-16],\n",
              "         [ 2.57172666e-16,  6.98573723e-01]]]])"
            ]
          },
          "metadata": {},
          "execution_count": 30
        }
      ]
    },
    {
      "cell_type": "markdown",
      "source": [
        "##### Converting to SO Basis"
      ],
      "metadata": {
        "id": "3fzFk08qk2sg"
      },
      "id": "3fzFk08qk2sg"
    },
    {
      "cell_type": "code",
      "source": [
        "n_mo   = h_mo.shape[0]\n",
        "n_so   = 2 * n_mo\n",
        "\n",
        "h_so = np.zeros((n_so,n_so))\n",
        "for p in range(n_mo):\n",
        "    for q in range(n_mo):\n",
        "        h_so[2*p  ,2*q  ] = h_mo[p,q]\n",
        "        h_so[2*p+1,2*q+1] = h_mo[p,q]\n",
        "\n",
        "g_so = np.zeros((n_so, n_so, n_so, n_so))\n",
        "for p in range(n_mo):\n",
        "    for q in range(n_mo):\n",
        "        for r in range(n_mo):\n",
        "            for s in range(n_mo):\n",
        "                g_so[2*p  ,2*q  ,2*r  ,2*s  ] = g_mo[p,q,r,s]\n",
        "                g_so[2*p+1,2*q+1,2*r+1,2*s+1] = g_mo[p,q,r,s]\n"
      ],
      "metadata": {
        "id": "nttRWaklkZUo"
      },
      "id": "nttRWaklkZUo",
      "execution_count": 31,
      "outputs": []
    },
    {
      "cell_type": "code",
      "source": [
        "os.makedirs(\"_Hamiltonians\", exist_ok=True)\n",
        "with open(\"_Hamiltonians/H2.bin\", \"wb\") as f:\n",
        "    pkl.dump((E_nuc, h_so, g_so), f)"
      ],
      "metadata": {
        "id": "rL0uB8ASlbIN"
      },
      "id": "rL0uB8ASlbIN",
      "execution_count": 32,
      "outputs": []
    },
    {
      "cell_type": "code",
      "source": [],
      "metadata": {
        "id": "-DKozAmiw5lx"
      },
      "id": "-DKozAmiw5lx",
      "execution_count": null,
      "outputs": []
    }
  ],
  "metadata": {
    "kernelspec": {
      "display_name": "Python 3 (ipykernel)",
      "language": "python",
      "name": "python3"
    },
    "language_info": {
      "codemirror_mode": {
        "name": "ipython",
        "version": 3
      },
      "file_extension": ".py",
      "mimetype": "text/x-python",
      "name": "python",
      "nbconvert_exporter": "python",
      "pygments_lexer": "ipython3",
      "version": "3.10.5"
    },
    "colab": {
      "provenance": []
    }
  },
  "nbformat": 4,
  "nbformat_minor": 5
}