{
  "cells": [
    {
      "cell_type": "code",
      "source": [
        "!pip install qiskit\n",
        "!pip install qiskit_nature\n",
        "!pip install qiskit_ibm_runtime\n",
        "!pip install --prefer-binary pyscf"
      ],
      "metadata": {
        "colab": {
          "base_uri": "https://localhost:8080/"
        },
        "id": "aG8nQRmU52PI",
        "outputId": "87201985-9692-4f76-89fc-657b95611b08"
      },
      "id": "aG8nQRmU52PI",
      "execution_count": 2,
      "outputs": [
        {
          "output_type": "stream",
          "name": "stdout",
          "text": [
            "Requirement already satisfied: qiskit in /usr/local/lib/python3.11/dist-packages (2.0.0)\n",
            "Requirement already satisfied: rustworkx>=0.15.0 in /usr/local/lib/python3.11/dist-packages (from qiskit) (0.16.0)\n",
            "Requirement already satisfied: numpy<3,>=1.17 in /usr/local/lib/python3.11/dist-packages (from qiskit) (2.0.2)\n",
            "Requirement already satisfied: scipy>=1.5 in /usr/local/lib/python3.11/dist-packages (from qiskit) (1.14.1)\n",
            "Requirement already satisfied: sympy>=1.3 in /usr/local/lib/python3.11/dist-packages (from qiskit) (1.13.1)\n",
            "Requirement already satisfied: dill>=0.3 in /usr/local/lib/python3.11/dist-packages (from qiskit) (0.4.0)\n",
            "Requirement already satisfied: python-dateutil>=2.8.0 in /usr/local/lib/python3.11/dist-packages (from qiskit) (2.8.2)\n",
            "Requirement already satisfied: stevedore>=3.0.0 in /usr/local/lib/python3.11/dist-packages (from qiskit) (5.4.1)\n",
            "Requirement already satisfied: typing-extensions in /usr/local/lib/python3.11/dist-packages (from qiskit) (4.13.2)\n",
            "Requirement already satisfied: symengine<0.14,>=0.11 in /usr/local/lib/python3.11/dist-packages (from qiskit) (0.13.0)\n",
            "Requirement already satisfied: six>=1.5 in /usr/local/lib/python3.11/dist-packages (from python-dateutil>=2.8.0->qiskit) (1.17.0)\n",
            "Requirement already satisfied: pbr>=2.0.0 in /usr/local/lib/python3.11/dist-packages (from stevedore>=3.0.0->qiskit) (6.1.1)\n",
            "Requirement already satisfied: mpmath<1.4,>=1.1.0 in /usr/local/lib/python3.11/dist-packages (from sympy>=1.3->qiskit) (1.3.0)\n",
            "Requirement already satisfied: setuptools in /usr/local/lib/python3.11/dist-packages (from pbr>=2.0.0->stevedore>=3.0.0->qiskit) (75.2.0)\n",
            "Requirement already satisfied: qiskit_nature in /usr/local/lib/python3.11/dist-packages (0.7.2)\n",
            "Requirement already satisfied: qiskit>=0.44 in /usr/local/lib/python3.11/dist-packages (from qiskit_nature) (2.0.0)\n",
            "Requirement already satisfied: qiskit-algorithms>=0.2.1 in /usr/local/lib/python3.11/dist-packages (from qiskit_nature) (0.3.1)\n",
            "Requirement already satisfied: scipy>=1.4 in /usr/local/lib/python3.11/dist-packages (from qiskit_nature) (1.14.1)\n",
            "Requirement already satisfied: numpy>=1.17 in /usr/local/lib/python3.11/dist-packages (from qiskit_nature) (2.0.2)\n",
            "Requirement already satisfied: psutil>=5 in /usr/local/lib/python3.11/dist-packages (from qiskit_nature) (5.9.5)\n",
            "Requirement already satisfied: setuptools>=40.1.0 in /usr/local/lib/python3.11/dist-packages (from qiskit_nature) (75.2.0)\n",
            "Requirement already satisfied: typing-extensions in /usr/local/lib/python3.11/dist-packages (from qiskit_nature) (4.13.2)\n",
            "Requirement already satisfied: h5py in /usr/local/lib/python3.11/dist-packages (from qiskit_nature) (3.13.0)\n",
            "Requirement already satisfied: rustworkx>=0.12 in /usr/local/lib/python3.11/dist-packages (from qiskit_nature) (0.16.0)\n",
            "Requirement already satisfied: sympy>=1.3 in /usr/local/lib/python3.11/dist-packages (from qiskit>=0.44->qiskit_nature) (1.13.1)\n",
            "Requirement already satisfied: dill>=0.3 in /usr/local/lib/python3.11/dist-packages (from qiskit>=0.44->qiskit_nature) (0.4.0)\n",
            "Requirement already satisfied: python-dateutil>=2.8.0 in /usr/local/lib/python3.11/dist-packages (from qiskit>=0.44->qiskit_nature) (2.8.2)\n",
            "Requirement already satisfied: stevedore>=3.0.0 in /usr/local/lib/python3.11/dist-packages (from qiskit>=0.44->qiskit_nature) (5.4.1)\n",
            "Requirement already satisfied: symengine<0.14,>=0.11 in /usr/local/lib/python3.11/dist-packages (from qiskit>=0.44->qiskit_nature) (0.13.0)\n",
            "Requirement already satisfied: six>=1.5 in /usr/local/lib/python3.11/dist-packages (from python-dateutil>=2.8.0->qiskit>=0.44->qiskit_nature) (1.17.0)\n",
            "Requirement already satisfied: pbr>=2.0.0 in /usr/local/lib/python3.11/dist-packages (from stevedore>=3.0.0->qiskit>=0.44->qiskit_nature) (6.1.1)\n",
            "Requirement already satisfied: mpmath<1.4,>=1.1.0 in /usr/local/lib/python3.11/dist-packages (from sympy>=1.3->qiskit>=0.44->qiskit_nature) (1.3.0)\n",
            "Requirement already satisfied: qiskit_ibm_runtime in /usr/local/lib/python3.11/dist-packages (0.38.0)\n",
            "Requirement already satisfied: requests>=2.19 in /usr/local/lib/python3.11/dist-packages (from qiskit_ibm_runtime) (2.32.3)\n",
            "Requirement already satisfied: requests-ntlm>=1.1.0 in /usr/local/lib/python3.11/dist-packages (from qiskit_ibm_runtime) (1.3.0)\n",
            "Requirement already satisfied: numpy>=1.13 in /usr/local/lib/python3.11/dist-packages (from qiskit_ibm_runtime) (2.0.2)\n",
            "Requirement already satisfied: urllib3>=1.21.1 in /usr/local/lib/python3.11/dist-packages (from qiskit_ibm_runtime) (2.3.0)\n",
            "Requirement already satisfied: python-dateutil>=2.8.0 in /usr/local/lib/python3.11/dist-packages (from qiskit_ibm_runtime) (2.8.2)\n",
            "Requirement already satisfied: ibm-platform-services>=0.22.6 in /usr/local/lib/python3.11/dist-packages (from qiskit_ibm_runtime) (0.63.0)\n",
            "Requirement already satisfied: pydantic<2.10,>=2.5.0 in /usr/local/lib/python3.11/dist-packages (from qiskit_ibm_runtime) (2.9.2)\n",
            "Requirement already satisfied: qiskit>=1.4.1 in /usr/local/lib/python3.11/dist-packages (from qiskit_ibm_runtime) (2.0.0)\n",
            "Requirement already satisfied: packaging in /usr/local/lib/python3.11/dist-packages (from qiskit_ibm_runtime) (24.2)\n",
            "Requirement already satisfied: ibm_cloud_sdk_core<4.0.0,>=3.22.1 in /usr/local/lib/python3.11/dist-packages (from ibm-platform-services>=0.22.6->qiskit_ibm_runtime) (3.23.0)\n",
            "Requirement already satisfied: annotated-types>=0.6.0 in /usr/local/lib/python3.11/dist-packages (from pydantic<2.10,>=2.5.0->qiskit_ibm_runtime) (0.7.0)\n",
            "Requirement already satisfied: pydantic-core==2.23.4 in /usr/local/lib/python3.11/dist-packages (from pydantic<2.10,>=2.5.0->qiskit_ibm_runtime) (2.23.4)\n",
            "Requirement already satisfied: typing-extensions>=4.6.1 in /usr/local/lib/python3.11/dist-packages (from pydantic<2.10,>=2.5.0->qiskit_ibm_runtime) (4.13.2)\n",
            "Requirement already satisfied: six>=1.5 in /usr/local/lib/python3.11/dist-packages (from python-dateutil>=2.8.0->qiskit_ibm_runtime) (1.17.0)\n",
            "Requirement already satisfied: rustworkx>=0.15.0 in /usr/local/lib/python3.11/dist-packages (from qiskit>=1.4.1->qiskit_ibm_runtime) (0.16.0)\n",
            "Requirement already satisfied: scipy>=1.5 in /usr/local/lib/python3.11/dist-packages (from qiskit>=1.4.1->qiskit_ibm_runtime) (1.14.1)\n",
            "Requirement already satisfied: sympy>=1.3 in /usr/local/lib/python3.11/dist-packages (from qiskit>=1.4.1->qiskit_ibm_runtime) (1.13.1)\n",
            "Requirement already satisfied: dill>=0.3 in /usr/local/lib/python3.11/dist-packages (from qiskit>=1.4.1->qiskit_ibm_runtime) (0.4.0)\n",
            "Requirement already satisfied: stevedore>=3.0.0 in /usr/local/lib/python3.11/dist-packages (from qiskit>=1.4.1->qiskit_ibm_runtime) (5.4.1)\n",
            "Requirement already satisfied: symengine<0.14,>=0.11 in /usr/local/lib/python3.11/dist-packages (from qiskit>=1.4.1->qiskit_ibm_runtime) (0.13.0)\n",
            "Requirement already satisfied: charset-normalizer<4,>=2 in /usr/local/lib/python3.11/dist-packages (from requests>=2.19->qiskit_ibm_runtime) (3.4.1)\n",
            "Requirement already satisfied: idna<4,>=2.5 in /usr/local/lib/python3.11/dist-packages (from requests>=2.19->qiskit_ibm_runtime) (3.10)\n",
            "Requirement already satisfied: certifi>=2017.4.17 in /usr/local/lib/python3.11/dist-packages (from requests>=2.19->qiskit_ibm_runtime) (2025.1.31)\n",
            "Requirement already satisfied: cryptography>=1.3 in /usr/local/lib/python3.11/dist-packages (from requests-ntlm>=1.1.0->qiskit_ibm_runtime) (43.0.3)\n",
            "Requirement already satisfied: pyspnego>=0.4.0 in /usr/local/lib/python3.11/dist-packages (from requests-ntlm>=1.1.0->qiskit_ibm_runtime) (0.11.2)\n",
            "Requirement already satisfied: cffi>=1.12 in /usr/local/lib/python3.11/dist-packages (from cryptography>=1.3->requests-ntlm>=1.1.0->qiskit_ibm_runtime) (1.17.1)\n",
            "Requirement already satisfied: PyJWT<3.0.0,>=2.8.0 in /usr/local/lib/python3.11/dist-packages (from ibm_cloud_sdk_core<4.0.0,>=3.22.1->ibm-platform-services>=0.22.6->qiskit_ibm_runtime) (2.10.1)\n",
            "Requirement already satisfied: pbr>=2.0.0 in /usr/local/lib/python3.11/dist-packages (from stevedore>=3.0.0->qiskit>=1.4.1->qiskit_ibm_runtime) (6.1.1)\n",
            "Requirement already satisfied: mpmath<1.4,>=1.1.0 in /usr/local/lib/python3.11/dist-packages (from sympy>=1.3->qiskit>=1.4.1->qiskit_ibm_runtime) (1.3.0)\n",
            "Requirement already satisfied: pycparser in /usr/local/lib/python3.11/dist-packages (from cffi>=1.12->cryptography>=1.3->requests-ntlm>=1.1.0->qiskit_ibm_runtime) (2.22)\n",
            "Requirement already satisfied: setuptools in /usr/local/lib/python3.11/dist-packages (from pbr>=2.0.0->stevedore>=3.0.0->qiskit>=1.4.1->qiskit_ibm_runtime) (75.2.0)\n",
            "Requirement already satisfied: pyscf in /usr/local/lib/python3.11/dist-packages (2.9.0)\n",
            "Requirement already satisfied: numpy!=1.16,!=1.17,>=1.13 in /usr/local/lib/python3.11/dist-packages (from pyscf) (2.0.2)\n",
            "Requirement already satisfied: scipy>=1.6.0 in /usr/local/lib/python3.11/dist-packages (from pyscf) (1.14.1)\n",
            "Requirement already satisfied: h5py>=2.7 in /usr/local/lib/python3.11/dist-packages (from pyscf) (3.13.0)\n",
            "Requirement already satisfied: setuptools in /usr/local/lib/python3.11/dist-packages (from pyscf) (75.2.0)\n"
          ]
        }
      ]
    },
    {
      "cell_type": "markdown",
      "id": "48c8e316-1587-412d-80a3-bf55996ff28e",
      "metadata": {
        "id": "48c8e316-1587-412d-80a3-bf55996ff28e"
      },
      "source": [
        "# 02: H-Atom Fast Forward\n",
        "\n",
        "Recent literature has shown methods such as Variational Fast Forwarding which aims to predict the long-term time evolutions of a system given data on the short-term evolutions of the system. Filip et al [1] and Cîrstoiu et al [2] have demonstrated two different ways to train a VFF using short-term evolution data. This dataset provides us short-term data and gives us testing points for long-term performance benchmarking"
      ]
    },
    {
      "cell_type": "markdown",
      "id": "5a721884-ec87-4304-8bdd-1804a51fa972",
      "metadata": {
        "id": "5a721884-ec87-4304-8bdd-1804a51fa972"
      },
      "source": [
        "## 02.1 Data Format\n",
        "\n",
        "The data generator gives us the following:\n",
        "- `⎢ѱHK〉`: The Hartree Fock State of the system\n",
        "- `X_train`: `[Δt, 2Δtm …MΔt]` which are uniform timestamps at which short-term evolutions are recorded\n",
        "- `Y_train`: `U(Δt)⎢ѱHK〉...U(MΔt)⎢ѱHK〉` which are the short-term evolutions but with noise\n",
        "- `X_test`: `[PΔt…NΔt]` which are the long-term timestamps\n",
        "- `Y_test`: `U(PΔt)⎢ѱHK〉…U(NΔt)⎢ѱHK〉` which are the long-term noiseless evolutions\n",
        "\n",
        "The data generator gets the `U(Δt)` and the `⎢ѱHK〉` from a H-atom model given by the hyperparameters. The noisy generations allow us to also benchmark our pipeline on how well it avoids overfitting to noise which wasn't discussed in the references above"
      ]
    },
    {
      "cell_type": "markdown",
      "id": "330408a5-a18b-4f0e-a2e5-68e0a051192a",
      "metadata": {
        "id": "330408a5-a18b-4f0e-a2e5-68e0a051192a"
      },
      "source": [
        "### 02.1.1 H-Atom Hamiltonians\n",
        "\n",
        "We need some Chemistry to first decide what geometries to import.\n",
        "\n",
        "- H2: Usually found at a `0.735 Å` equilibrium bond distance [O’Malley et al. (2016)]\n",
        "- H3+: Usually found both in an equilateral triangle configuration with `0.9 Å` between each pair\n",
        "- H6: Usually modelled as a linear chain of 6 atoms with bond lengths `1 Å` between each pair\n"
      ]
    },
    {
      "cell_type": "code",
      "source": [
        "H2 = {atom:\"H 0 0 0; H 0 0 0.735\", basis:\"sto-3g\", charge:0, spin:0}\n",
        "H3 = {atom:\"H 0 0 -0.45; H 0 0 0.45; H 0 0.78 0;\", basis:\"sto-3g\", charge:1, spin:0}\n",
        "H6 = {atom:\"H 0 0 0; H 0 0 1; H 0 0 2; H 0 0 3; H 0 0 4; H 0 0 5;\", charge:0, spin:0}"
      ],
      "metadata": {
        "id": "fcoaKPXpKKAq"
      },
      "id": "fcoaKPXpKKAq",
      "execution_count": 3,
      "outputs": []
    },
    {
      "cell_type": "markdown",
      "id": "2fdc34c9-39c9-4af6-ac5b-e38336ba5b8f",
      "metadata": {
        "id": "2fdc34c9-39c9-4af6-ac5b-e38336ba5b8f"
      },
      "source": [
        "#### Electronic Hamiltonians from PySCF for H2"
      ]
    },
    {
      "cell_type": "code",
      "execution_count": null,
      "id": "d8899ce7-ca3a-4594-a079-1af9c4a9c3d8",
      "metadata": {
        "id": "d8899ce7-ca3a-4594-a079-1af9c4a9c3d8",
        "outputId": "7d9b943f-b792-4191-92f7-27a47265b0cf"
      },
      "outputs": [
        {
          "ename": "ImportError",
          "evalue": "attempted relative import with no known parent package",
          "output_type": "error",
          "traceback": [
            "\u001b[1;31m---------------------------------------------------------------------------\u001b[0m",
            "\u001b[1;31mImportError\u001b[0m                               Traceback (most recent call last)",
            "Cell \u001b[1;32mIn[1], line 24\u001b[0m\n\u001b[0;32m     21\u001b[0m \u001b[38;5;28;01mimport\u001b[39;00m \u001b[38;5;21;01mqiskit_nature\u001b[39;00m\u001b[38;5;21;01m.\u001b[39;00m\u001b[38;5;21;01moptionals\u001b[39;00m \u001b[38;5;28;01mas\u001b[39;00m \u001b[38;5;21;01m_optionals\u001b[39;00m\n\u001b[0;32m     22\u001b[0m \u001b[38;5;28;01mfrom\u001b[39;00m \u001b[38;5;21;01mqiskit_nature\u001b[39;00m\u001b[38;5;21;01m.\u001b[39;00m\u001b[38;5;21;01mutils\u001b[39;00m \u001b[38;5;28;01mimport\u001b[39;00m get_einsum\n\u001b[1;32m---> 24\u001b[0m \u001b[38;5;28;01mfrom\u001b[39;00m \u001b[38;5;21;01m.\u001b[39;00m\u001b[38;5;21;01m.\u001b[39;00m\u001b[38;5;21;01melectronic_structure_driver\u001b[39;00m \u001b[38;5;28;01mimport\u001b[39;00m ElectronicStructureDriver, MethodType, _QCSchemaData\n\u001b[0;32m     26\u001b[0m logger \u001b[38;5;241m=\u001b[39m logging\u001b[38;5;241m.\u001b[39mgetLogger(\u001b[38;5;18m__name__\u001b[39m)\n\u001b[0;32m     28\u001b[0m warnings\u001b[38;5;241m.\u001b[39mfilterwarnings(\u001b[38;5;124m\"\u001b[39m\u001b[38;5;124mignore\u001b[39m\u001b[38;5;124m\"\u001b[39m, category\u001b[38;5;241m=\u001b[39m\u001b[38;5;167;01mDeprecationWarning\u001b[39;00m, module\u001b[38;5;241m=\u001b[39m\u001b[38;5;124m\"\u001b[39m\u001b[38;5;124mpyscf\u001b[39m\u001b[38;5;124m\"\u001b[39m)\n",
            "\u001b[1;31mImportError\u001b[0m: attempted relative import with no known parent package"
          ]
        }
      ],
      "source": [
        "from pyscf import gto\n",
        "mol = gto.Mole()\n",
        "mol.build(**H2)"
      ]
    },
    {
      "cell_type": "code",
      "execution_count": null,
      "id": "814777e5-60ce-4df7-858e-2345f07725f9",
      "metadata": {
        "id": "814777e5-60ce-4df7-858e-2345f07725f9"
      },
      "outputs": [],
      "source": [
        "driver = PySCFDriver(\n",
        "    atom=\"H 0 0 0; H 0 0 0.735\",\n",
        "    basis=\"sto3g\",\n",
        "    charge=0,\n",
        "    spin=0,\n",
        "    unit=DistanceUnit.ANGSTROM,\n",
        ")\n",
        "\n",
        "es_problem = driver.run()\n",
        "\n",
        "num_alpha_electrons = es_problem.num_alpha\n",
        "num_beta_electrons = es_problem.num_beta\n",
        "num_spin_orbitals = int(es_problem.num_spin_orbitals)\n",
        "\n",
        "nuclear_rep_energy = es_problem.nuclear_repulsion_energy\n",
        "print(\"number of alpha electrons: \" , num_alpha_electrons)\n",
        "print(\"number of beta electrons: \" , num_beta_electrons)\n",
        "print(\"number of spin orbitals: \" , num_spin_orbitals)\n",
        "print(\"nuclear repulsion energy: \" , nuclear_rep_energy)\n",
        "\n",
        "hamiltonian = es_problem.hamiltonian\n",
        "second_q_op = hamiltonian.second_q_op()\n",
        "mapper = JordanWignerMapper()\n",
        "qubit_op = mapper.map(second_q_op)\n",
        "\n",
        "service = QiskitRuntimeService(channel=\"ibm_quantum\")\n",
        "backend = service.backend('ibm_sherbrooke')\n",
        "# backend = service.least_busy(simulator=False)\n",
        "# estimator = Estimator(backend_options={\"method\": \"statevector\"})\n",
        "estimator = EstimatorV2(backend)\n",
        "\n",
        "# from qiskit.utils import algorithm_globals\n",
        "from qiskit.circuit.library import EfficientSU2\n",
        "from qiskit_nature.second_q.circuit.library import HartreeFock\n",
        "\n",
        "# algorithm_globals.random_seed = 1024\n",
        "convergence = []\n",
        "job_list = []\n",
        "\n",
        "\n",
        "def evaluate_expectation(x):\n",
        "    x = list(x)\n",
        "    job = estimator.run(circuits=[ansatz], observables=[qubit_op_parity], parameter_values=[x]).result()\n",
        "\n",
        "    results = job.values[0]\n",
        "    job_list.append(results)\n",
        "    convergence.append(np.real(results))\n",
        "    return np.real(results)\n",
        "\n",
        "np.random.seed(10)\n",
        "\n",
        "init_state = HartreeFock(num_spatial_orbitals=es_problem.num_spatial_orbitals, num_particles= es_problem.num_particles, qubit_mapper=mapper)\n",
        "\n",
        "ansatz = UCC(num_spatial_orbitals=es_problem.num_spatial_orbitals, num_particles=es_problem.num_particles, excitations=[1, 2], qubit_mapper=mapper, initial_state = init_state)\n",
        "\n",
        "initial_point = np.random.random(ansatz.num_parameters)\n",
        "optimizer = SPSA(maxiter = 50)\n",
        "\n",
        "result = optimizer.minimize(evaluate_expectation,x0= initial_point)"
      ]
    },
    {
      "cell_type": "markdown",
      "id": "828dd5b6-a30f-4d74-99f0-ed25275b89e1",
      "metadata": {
        "id": "828dd5b6-a30f-4d74-99f0-ed25275b89e1"
      },
      "source": [
        "### 02.1.1 Hamiltonian Models\n"
      ]
    },
    {
      "cell_type": "code",
      "execution_count": null,
      "id": "577893e5-94ac-4bdd-81de-bc63b9d11811",
      "metadata": {
        "id": "577893e5-94ac-4bdd-81de-bc63b9d11811"
      },
      "outputs": [],
      "source": []
    }
  ],
  "metadata": {
    "kernelspec": {
      "display_name": "Python 3 (ipykernel)",
      "language": "python",
      "name": "python3"
    },
    "language_info": {
      "codemirror_mode": {
        "name": "ipython",
        "version": 3
      },
      "file_extension": ".py",
      "mimetype": "text/x-python",
      "name": "python",
      "nbconvert_exporter": "python",
      "pygments_lexer": "ipython3",
      "version": "3.10.5"
    },
    "colab": {
      "provenance": []
    }
  },
  "nbformat": 4,
  "nbformat_minor": 5
}