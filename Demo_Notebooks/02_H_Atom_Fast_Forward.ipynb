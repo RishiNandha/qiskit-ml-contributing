{
  "cells": [
    {
      "cell_type": "code",
      "source": [
        "!pip install qiskit --quiet\n",
        "!pip install qiskit_nature --quiet\n",
        "!pip install qiskit_ibm_runtime --quiet\n",
        "!pip install --prefer-binary pyscf --quiet\n",
        "import numpy as np\n",
        "import pickle as pkl\n",
        "import os\n",
        "import itertools"
      ],
      "metadata": {
        "id": "aG8nQRmU52PI"
      },
      "id": "aG8nQRmU52PI",
      "execution_count": 55,
      "outputs": []
    },
    {
      "cell_type": "markdown",
      "id": "48c8e316-1587-412d-80a3-bf55996ff28e",
      "metadata": {
        "id": "48c8e316-1587-412d-80a3-bf55996ff28e"
      },
      "source": [
        "# 02: H-Atom Fast Forward\n",
        "\n",
        "Recent literature has shown methods such as Variational Fast Forwarding which aims to predict the long-term time evolutions of a system given data on the short-term evolutions of the system. Filip et al [1] and Cîrstoiu et al [2] have demonstrated two different ways to train a VFF using short-term evolution data. This dataset provides us short-term data and gives us testing points for long-term performance benchmarking"
      ]
    },
    {
      "cell_type": "markdown",
      "id": "5a721884-ec87-4304-8bdd-1804a51fa972",
      "metadata": {
        "id": "5a721884-ec87-4304-8bdd-1804a51fa972"
      },
      "source": [
        "## 02.1 Data Format\n",
        "\n",
        "The data generator gives us the following:\n",
        "- `⎢ѱHK〉`: The Hartree Fock State of the system\n",
        "- `X_train`: `[Δt, 2Δtm …MΔt]` which are uniform timestamps at which short-term evolutions are recorded\n",
        "- `Y_train`: `U(Δt)⎢ѱHK〉...U(MΔt)⎢ѱHK〉` which are the short-term evolutions but with noise\n",
        "- `X_test`: `[PΔt…NΔt]` which are the long-term timestamps\n",
        "- `Y_test`: `U(PΔt)⎢ѱHK〉…U(NΔt)⎢ѱHK〉` which are the long-term noiseless evolutions\n",
        "\n",
        "The data generator gets the `U(Δt)` and the `⎢ѱHK〉` from a H-atom model given by the hyperparameters. The noisy generations allow us to also benchmark our pipeline on how well it avoids overfitting to noise which wasn't discussed in the references above"
      ]
    },
    {
      "cell_type": "markdown",
      "id": "330408a5-a18b-4f0e-a2e5-68e0a051192a",
      "metadata": {
        "id": "330408a5-a18b-4f0e-a2e5-68e0a051192a"
      },
      "source": [
        "### 02.1.1 H-Atom Hamiltonians from PySCF\n",
        "\n",
        "We need some Chemistry to first decide what geometries to import.\n",
        "\n",
        "- H2: Usually found at a `0.735 Å` equilibrium bond distance [O’Malley et al. (2016)]\n",
        "- H3+: Usually found both in an equilateral triangle configuration with `0.9 Å` between each pair\n",
        "- H6: Usually modelled as a linear chain of 6 atoms with bond lengths `1 Å` between each pair\n"
      ]
    },
    {
      "cell_type": "code",
      "source": [
        "H2 = {\"atom\":\"H 0 0 0; H 0 0 0.735\", \"basis\":\"sto-3g\", \"charge\":0, \"spin\":0}\n",
        "H3 = {\"atom\":\"H 0 0 -0.45; H 0 0 0.45; H 0 0.78 0;\", \"basis\":\"sto-3g\", \"charge\":1, \"spin\":0}\n",
        "H6 = {\"atom\":\"H 0 0 0; H 0 0 1; H 0 0 2; H 0 0 3; H 0 0 4; H 0 0 5;\", \"basis\":\"sto-3g\", \"charge\":0, \"spin\":0}"
      ],
      "metadata": {
        "id": "fcoaKPXpKKAq"
      },
      "id": "fcoaKPXpKKAq",
      "execution_count": 56,
      "outputs": []
    },
    {
      "cell_type": "code",
      "execution_count": 57,
      "id": "d8899ce7-ca3a-4594-a079-1af9c4a9c3d8",
      "metadata": {
        "colab": {
          "base_uri": "https://localhost:8080/"
        },
        "id": "d8899ce7-ca3a-4594-a079-1af9c4a9c3d8",
        "outputId": "f9633abc-73dc-4102-86d2-bd13d1fae0c6"
      },
      "outputs": [
        {
          "output_type": "stream",
          "name": "stdout",
          "text": [
            "converged SCF energy = -1.116998996754\n"
          ]
        },
        {
          "output_type": "execute_result",
          "data": {
            "text/plain": [
              "<pyscf.gto.mole.Mole at 0x7d5e37bb8050>"
            ]
          },
          "metadata": {},
          "execution_count": 57
        }
      ],
      "source": [
        "from pyscf import gto, scf\n",
        "mol = gto.M(**H2)\n",
        "mf = scf.RHF(mol).run(conv_tol=1e-12)\n",
        "mol"
      ]
    },
    {
      "cell_type": "markdown",
      "source": [
        "Fermionic Hamiltonians are of the form:\n",
        "\n",
        "$\\hat{H}\\;=\\;E_{\\text{nuc}}\\;+\\;\\sum_{p q} h_{p q}\\,a^{\\dagger}_{p}\\, a_{q}+\\;\\frac{1}{2}\\,\\sum_{p q r s}g_{p q r s}\\,a^{\\dagger}_{p}\\, a^{\\dagger}_{q}\\,a_{r}\\, a_{s}$\n",
        "\n",
        "The first term is the constant nuclear repulsions term. The other terms are first quantization and second quantization terms for Fermionic Pair Creations and Anhilations. The co-efficients are derived from Molecular Orbital Integrals"
      ],
      "metadata": {
        "id": "NPkOoekFUW8z"
      },
      "id": "NPkOoekFUW8z"
    },
    {
      "cell_type": "markdown",
      "source": [
        "#### Nuclear Repulsions Term"
      ],
      "metadata": {
        "id": "xut3nTF2WHU6"
      },
      "id": "xut3nTF2WHU6"
    },
    {
      "cell_type": "code",
      "execution_count": 58,
      "id": "577893e5-94ac-4bdd-81de-bc63b9d11811",
      "metadata": {
        "colab": {
          "base_uri": "https://localhost:8080/"
        },
        "id": "577893e5-94ac-4bdd-81de-bc63b9d11811",
        "outputId": "1b33e934-7f97-4d0c-89b9-a6ce621f10e0"
      },
      "outputs": [
        {
          "output_type": "execute_result",
          "data": {
            "text/plain": [
              "np.float64(0.7199689944489797)"
            ]
          },
          "metadata": {},
          "execution_count": 58
        }
      ],
      "source": [
        "E_nuc = mol.energy_nuc()\n",
        "E_nuc"
      ]
    },
    {
      "cell_type": "markdown",
      "source": [
        "#### 1e and 2e Interactions in AO Basis"
      ],
      "metadata": {
        "id": "EtCTgKkNi_EQ"
      },
      "id": "EtCTgKkNi_EQ"
    },
    {
      "cell_type": "code",
      "source": [
        "h_ao  = mf.get_hcore()\n",
        "h_ao, h_ao.shape"
      ],
      "metadata": {
        "colab": {
          "base_uri": "https://localhost:8080/"
        },
        "id": "0mw12V0giNf5",
        "outputId": "44d21a8e-afea-4939-c444-28bcfc728263"
      },
      "id": "0mw12V0giNf5",
      "execution_count": 59,
      "outputs": [
        {
          "output_type": "execute_result",
          "data": {
            "text/plain": [
              "(array([[-1.12421758, -0.9652574 ],\n",
              "        [-0.9652574 , -1.12421758]]),\n",
              " (2, 2))"
            ]
          },
          "metadata": {},
          "execution_count": 59
        }
      ]
    },
    {
      "cell_type": "code",
      "source": [
        "g_ao  = mol.intor('int2e',aosym='s8')\n",
        "g_ao, g_ao.shape"
      ],
      "metadata": {
        "colab": {
          "base_uri": "https://localhost:8080/"
        },
        "id": "gv95uo6jjGms",
        "outputId": "00c3c296-18eb-46b6-c36e-05dcb40568d8"
      },
      "id": "gv95uo6jjGms",
      "execution_count": 60,
      "outputs": [
        {
          "output_type": "execute_result",
          "data": {
            "text/plain": [
              "(array([0.77460594, 0.44744572, 0.3009177 , 0.57187698, 0.44744572,\n",
              "        0.77460594]),\n",
              " (6,))"
            ]
          },
          "metadata": {},
          "execution_count": 60
        }
      ]
    },
    {
      "cell_type": "markdown",
      "source": [
        "#### Converting to MO Basis\n",
        "\n",
        "If this works right, the results should be:\n",
        "\n",
        "\n",
        "```\n",
        "[[-1.25633907e+00, -1.37083854e-17],\n",
        "[-6.07732712e-17, -4.71896007e-01]]\n",
        "\n",
        "[[[[6.75710155e-01, 1.56722377e-16],\n",
        "   [1.03976181e-16, 6.64581730e-01]],\n",
        "\n",
        "  [[1.55375654e-16, 1.80931200e-01],\n",
        "   [1.80931200e-01, 4.63164127e-16]]],\n",
        "\n",
        "\n",
        " [[[5.98074319e-17, 1.80931200e-01],\n",
        "   [1.80931200e-01, 2.60271871e-16]],\n",
        "\n",
        "  [[6.64581730e-01, 2.69194871e-16],\n",
        "   [3.78920172e-16, 6.98573723e-01]]]]\n",
        "```\n",
        "\n"
      ],
      "metadata": {
        "id": "2wKA7DEWjolp"
      },
      "id": "2wKA7DEWjolp"
    },
    {
      "cell_type": "code",
      "source": [
        "C      = mf.mo_coeff\n",
        "h_mo   = C.T @ h_ao @ C\n",
        "h_mo"
      ],
      "metadata": {
        "colab": {
          "base_uri": "https://localhost:8080/"
        },
        "id": "nS0LH0FWjHfg",
        "outputId": "6b0eead6-e5be-4d5c-fa7b-90053a330152"
      },
      "id": "nS0LH0FWjHfg",
      "execution_count": 61,
      "outputs": [
        {
          "output_type": "execute_result",
          "data": {
            "text/plain": [
              "array([[-1.25633907e+00, -1.37083854e-17],\n",
              "       [-6.07732712e-17, -4.71896007e-01]])"
            ]
          },
          "metadata": {},
          "execution_count": 61
        }
      ]
    },
    {
      "cell_type": "code",
      "source": [
        "from pyscf import ao2mo\n",
        "g_mo8 = ao2mo.kernel(mol, C)\n",
        "g_mo  = ao2mo.restore(1, g_mo8, C.shape[1])\n",
        "g_mo"
      ],
      "metadata": {
        "colab": {
          "base_uri": "https://localhost:8080/"
        },
        "id": "u3dknnxRkWNL",
        "outputId": "b06e5675-8ee3-47ae-bbf0-13ec5ebb616f"
      },
      "id": "u3dknnxRkWNL",
      "execution_count": 62,
      "outputs": [
        {
          "output_type": "execute_result",
          "data": {
            "text/plain": [
              "array([[[[ 6.75710155e-01,  1.09338783e-16],\n",
              "         [ 1.09338783e-16,  6.64581730e-01]],\n",
              "\n",
              "        [[ 1.39486891e-16,  1.80931200e-01],\n",
              "         [ 1.80931200e-01, -1.03094037e-16]]],\n",
              "\n",
              "\n",
              "       [[[ 1.39486891e-16,  1.80931200e-01],\n",
              "         [ 1.80931200e-01, -1.03094037e-16]],\n",
              "\n",
              "        [[ 6.64581730e-01,  2.57172666e-16],\n",
              "         [ 2.57172666e-16,  6.98573723e-01]]]])"
            ]
          },
          "metadata": {},
          "execution_count": 62
        }
      ]
    },
    {
      "cell_type": "markdown",
      "source": [
        "#### Converting to SO Basis"
      ],
      "metadata": {
        "id": "3fzFk08qk2sg"
      },
      "id": "3fzFk08qk2sg"
    },
    {
      "cell_type": "code",
      "source": [
        "n   = h_mo.shape[0]\n",
        "n_so   = 2 * n\n",
        "eps = 1e-10\n",
        "\n",
        "h_so = np.zeros((n_so,n_so))\n",
        "g_so = np.zeros((n_so,n_so,n_so,n_so))\n",
        "\n",
        "# Mapping one-electron integrals\n",
        "for p in range(n):\n",
        "    for q in range(n):\n",
        "        val = h_mo[p, q]\n",
        "        if abs(val) < eps:\n",
        "            continue\n",
        "        # α spin\n",
        "        h_so[2 * p, 2 * q] = val\n",
        "        # β spin\n",
        "        h_so[2 * p + 1, 2 * q + 1] = val\n",
        "\n",
        "# Mapping two-electron integrals\n",
        "for p in range(n):\n",
        "    for q in range(n):\n",
        "        for r in range(n):\n",
        "            for s in range(n):\n",
        "                val = g_mo[p, q, r, s]\n",
        "                if abs(val) < eps:\n",
        "                    continue\n",
        "                # αααα\n",
        "                g_so[2 * p, 2 * q, 2 * r, 2 * s] = val\n",
        "                # ββββ\n",
        "                g_so[2 * p + 1, 2 * q + 1, 2 * r + 1, 2 * s + 1] = val\n",
        "                # αβαβ\n",
        "                g_so[2 * p, 2 * q + 1, 2 * r, 2 * s + 1] = val\n",
        "                # βαβα\n",
        "                g_so[2 * p + 1, 2 * q, 2 * r + 1, 2 * s] = val\n",
        "\n",
        "(E_nuc, h_so.shape, g_so.shape)"
      ],
      "metadata": {
        "id": "nttRWaklkZUo",
        "colab": {
          "base_uri": "https://localhost:8080/"
        },
        "outputId": "5d5ab354-4d34-4160-cea2-40479ca4735b"
      },
      "id": "nttRWaklkZUo",
      "execution_count": 63,
      "outputs": [
        {
          "output_type": "execute_result",
          "data": {
            "text/plain": [
              "(np.float64(0.7199689944489797), (4, 4), (4, 4, 4, 4))"
            ]
          },
          "metadata": {},
          "execution_count": 63
        }
      ]
    },
    {
      "cell_type": "code",
      "source": [
        "os.makedirs(\"_Hamiltonians\", exist_ok=True)\n",
        "with open(\"_Hamiltonians/H2_fermionic.bin\", \"wb\") as f:\n",
        "    pkl.dump((E_nuc, h_so, g_so), f)"
      ],
      "metadata": {
        "id": "rL0uB8ASlbIN"
      },
      "id": "rL0uB8ASlbIN",
      "execution_count": 64,
      "outputs": []
    },
    {
      "cell_type": "markdown",
      "source": [
        "### 02.1.2 Converting Fermionic Hamiltonian to Qubit Hamiltonian\n",
        "\n",
        "Jordan-Wigner mapping is when we map the state of occupancy of the orbitals to one qubit each. So the below equation shows the tranform that we will apply:\n",
        "\n",
        "$a_p ^\\dagger = \\frac 12 \\left(Z_0 \\otimes Z_1 \\ ... Z_{p-1} \\right) \\otimes \\left(X_p - j Y_p \\right)$\n",
        "\n",
        "The resulting Qubit Hamiltonian for H2 atom will be of the form:\n",
        "\n",
        "$\\hat H = c_0 I + c_1 Z_0 \\ ... + \\ c_5 Z_0 Z_1 + c_6 Z_0 Z_2 \\ ... + \\ c_{11} X_0X_1Y_2Y_3 + c_{12} X_0Y_1Y_2X_3 + c_{13} Y_0X_1X_2Y_3 + c_{13} Y_0Y_1X_2X_3$\n",
        "\n",
        "Now each term can be taken to the Unitary with CNOTs, Rys and Rzs that depend on the coefficients.\n",
        "\n",
        "We can define multiplication and addition for such symbolic terms to proceed"
      ],
      "metadata": {
        "id": "A12-sQHTe2nd"
      },
      "id": "A12-sQHTe2nd"
    },
    {
      "cell_type": "code",
      "source": [
        "# (op1, op2) -> (phase, op_res)\n",
        "mul_table = {\n",
        "    ('I','I'):(1,'I'), ('I','X'):(1,'X'), ('I','Y'):(1,'Y'), ('I','Z'):(1,'Z'),\n",
        "    ('X','I'):(1,'X'), ('X','X'):(1,'I'), ('X','Y'):(1j,'Z'),('X','Z'):(-1j,'Y'),\n",
        "    ('Y','I'):(1,'Y'), ('Y','X'):(-1j,'Z'),('Y','Y'):(1,'I'),('Y','Z'):(1j,'X'),\n",
        "    ('Z','I'):(1,'Z'), ('Z','X'):(1j,'Y'), ('Z','Y'):(-1j,'X'),('Z','Z'):(1,'I')\n",
        "}\n",
        "\n",
        "# pauli string is the list of single qubit gates for each qubit [Z,Z,Z,Z,X,I,I]\n",
        "def a_p(p,n):\n",
        "    # Anything can be represented as a sum of {string:coeff}\n",
        "    str1 = tuple(['Z']*p + ['X'] + ['I']*(n-p-1))\n",
        "    str2 = tuple(['Z']*p + ['Y'] + ['I']*(n-p-1))\n",
        "    return {str1:0.5, str2:0.5j}\n",
        "def a_p_dag(p,n):\n",
        "    str1 = tuple(['Z']*p + ['X'] + ['I']*(n-p-1))\n",
        "    str2 = tuple(['Z']*p + ['Y'] + ['I']*(n-p-1))\n",
        "    return {str1:0.5, str2:-0.5j}\n",
        "\n",
        "def mul_strs(str1, str2):\n",
        "    phase = 1\n",
        "    res = []\n",
        "    for i in range(len(str1)):\n",
        "        mul = mul_table[(str1[i], str2[i])]\n",
        "        phase *= mul[0]\n",
        "        res.append(mul[1])\n",
        "    return (phase, tuple(res))\n",
        "\n",
        "def mul_pauli(t1, t2):\n",
        "    res = {}\n",
        "    t1 = t1.items()\n",
        "    t2 = t2.items()\n",
        "    for (str1, c1) in t1:\n",
        "        for (str2, c2) in t2:\n",
        "            mul = mul_strs(str1,str2)\n",
        "            coeff = mul[0]*c1*c2\n",
        "            str_res = mul[1]\n",
        "            res[str_res]=res.get(str_res,0.0) + coeff\n",
        "    return res\n",
        "\n",
        "def add_pauli(t1,t2):\n",
        "    res = t2.copy()\n",
        "    t1 = t1.items()\n",
        "    for (str1, c1) in t1:\n",
        "        if str1 in res:\n",
        "            res[str1] += c1\n",
        "            if res[str1] == 0:\n",
        "                del res[str1]\n",
        "        else:\n",
        "            res[str1] = c1\n",
        "    return res"
      ],
      "metadata": {
        "id": "-DKozAmiw5lx"
      },
      "id": "-DKozAmiw5lx",
      "execution_count": 65,
      "outputs": []
    },
    {
      "cell_type": "markdown",
      "source": [
        "#### Arranging (E_nuc, h_so, g_so) into pauli form"
      ],
      "metadata": {
        "id": "qpobJDzntZbu"
      },
      "id": "qpobJDzntZbu"
    },
    {
      "cell_type": "code",
      "source": [
        "def JW_map(E_nuc, h_so, g_so, eps = 1e-12):\n",
        "    n = h_so.shape[0]\n",
        "    H = {tuple(['I']*n): E_nuc}       # start with the constant term\n",
        "\n",
        "    # ------- one-body part  Σ h_pq a†_p a_q -------\n",
        "    for p in range(n):\n",
        "        for q in range(n):\n",
        "            coeff = h_so[p, q]\n",
        "            if coeff==0:continue\n",
        "            term_pq = mul_pauli(a_p_dag(p, n), a_p(q, n))\n",
        "            for s, c in term_pq.items():\n",
        "                H[s] = H.get(s, 0.0) + coeff * c\n",
        "\n",
        "    # ------- two-body part  ½ Σ g_pqrs a†_p a†_q a_s a_r -------\n",
        "    for p in range(n):\n",
        "        for q in range(n):\n",
        "            for r in range(n):\n",
        "                for s in range(n):\n",
        "                    coeff = 0.5 * g_so[p, q, r, s]\n",
        "                    if coeff==0:continue\n",
        "                    term = mul_pauli(\n",
        "                        mul_pauli(a_p_dag(p, n), a_p_dag(q, n)),\n",
        "                        mul_pauli(a_p(s, n), a_p(r, n))\n",
        "                    )\n",
        "                    for st, ct in term.items():\n",
        "                        H[st] = H.get(st, 0.0) + coeff * ct\n",
        "\n",
        "    # prune numerically-zero entries\n",
        "    return {k: v for k, v in H.items() if abs(v) > eps}"
      ],
      "metadata": {
        "id": "C5vC_zMtsZeu"
      },
      "id": "C5vC_zMtsZeu",
      "execution_count": 70,
      "outputs": []
    },
    {
      "cell_type": "code",
      "source": [
        "JW_map(E_nuc, h_so, g_so)"
      ],
      "metadata": {
        "id": "F9CPGikVyYQS",
        "outputId": "daa64789-e149-4618-94ec-6baedb53ed3b",
        "colab": {
          "base_uri": "https://localhost:8080/"
        }
      },
      "id": "F9CPGikVyYQS",
      "execution_count": 71,
      "outputs": [
        {
          "output_type": "execute_result",
          "data": {
            "text/plain": [
              "{('I', 'I', 'I', 'I'): np.complex128(0.07286973894478338+0j),\n",
              " ('Z', 'I', 'I', 'I'): np.complex128(0.20700459892734405+0j),\n",
              " ('I', 'Z', 'I', 'I'): np.complex128(0.20700459892734402+0j),\n",
              " ('I', 'I', 'Z', 'I'): np.complex128(0.008035886505754278+0j),\n",
              " ('I', 'I', 'I', 'Z'): np.complex128(0.008035886505754278+0j),\n",
              " ('Z', 'Z', 'I', 'I'): np.complex128(0.08446376935043953+0j),\n",
              " ('Y', 'X', 'Y', 'X'): np.complex128(0.030228158154441565+0j),\n",
              " ('Y', 'X', 'X', 'Y'): np.complex128(0.052844558127470485+0j),\n",
              " ('Y', 'Y', 'X', 'X'): np.complex128(-0.052844558127470485+0j),\n",
              " ('Y', 'Y', 'Y', 'Y'): np.complex128(0.030228158154441565+0j),\n",
              " ('X', 'X', 'X', 'X'): np.complex128(0.030228158154441565+0j),\n",
              " ('X', 'X', 'Y', 'Y'): np.complex128(-0.052844558127470485+0j),\n",
              " ('X', 'Y', 'Y', 'X'): np.complex128(0.052844558127470485+0j),\n",
              " ('X', 'Y', 'X', 'Y'): np.complex128(0.030228158154441565+0j),\n",
              " ('Z', 'I', 'I', 'Z'): np.complex128(0.022616399973028924+0j),\n",
              " ('I', 'Z', 'Z', 'I'): np.complex128(0.022616399973028924+0j),\n",
              " ('I', 'I', 'Z', 'Z'): np.complex128(0.08732171534150227+0j)}"
            ]
          },
          "metadata": {},
          "execution_count": 71
        }
      ]
    },
    {
      "cell_type": "code",
      "source": [],
      "metadata": {
        "id": "IWMHpH46ycNw"
      },
      "id": "IWMHpH46ycNw",
      "execution_count": 67,
      "outputs": []
    }
  ],
  "metadata": {
    "kernelspec": {
      "display_name": "Python 3 (ipykernel)",
      "language": "python",
      "name": "python3"
    },
    "language_info": {
      "codemirror_mode": {
        "name": "ipython",
        "version": 3
      },
      "file_extension": ".py",
      "mimetype": "text/x-python",
      "name": "python",
      "nbconvert_exporter": "python",
      "pygments_lexer": "ipython3",
      "version": "3.10.5"
    },
    "colab": {
      "provenance": []
    }
  },
  "nbformat": 4,
  "nbformat_minor": 5
}